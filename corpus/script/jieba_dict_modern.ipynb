{
 "cells": [
  {
   "cell_type": "code",
   "execution_count": 1,
   "metadata": {},
   "outputs": [],
   "source": [
    "import pandas as pd\n",
    "from zipfile import ZipFile\n",
    "import re"
   ]
  },
  {
   "cell_type": "code",
   "execution_count": 2,
   "metadata": {},
   "outputs": [],
   "source": [
    "file_open=open('../data_raw/peoples_daily_pos_tagged_1998_01.txt', encoding='utf8')\n",
    "dict_tagged=[]\n",
    "for sent in file_open.readlines():\n",
    "    dict_tagged+=sent.split()\n",
    "dict_tagged=[s.split('/') for s in dict_tagged]\n",
    "df_peoples_daily_pos_199801=pd.DataFrame(dict_tagged, columns=['token', 'pos'])"
   ]
  },
  {
   "cell_type": "code",
   "execution_count": 4,
   "metadata": {},
   "outputs": [],
   "source": [
    "zip_file=ZipFile('../data_raw/peoples_daily_pos_tagged_2014_01.zip')\n",
    "file_nm_list=zip_file.namelist()"
   ]
  },
  {
   "cell_type": "code",
   "execution_count": 5,
   "metadata": {},
   "outputs": [],
   "source": [
    "dict_tagged=[]\n",
    "for file_nm in file_nm_list:\n",
    "    dict_tagged+=[re.sub(r'/\\w+/', '/', s.replace('[', '').replace(']', '')) for s in zip_file.open(file_nm).read().decode('utf8').strip().split() if s!='']"
   ]
  },
  {
   "cell_type": "code",
   "execution_count": 6,
   "metadata": {},
   "outputs": [],
   "source": [
    "dict_tagged=[s.split('/') for s in dict_tagged]\n",
    "dict_tagged=[s for s in dict_tagged if len(s)==2]"
   ]
  },
  {
   "cell_type": "code",
   "execution_count": 7,
   "metadata": {},
   "outputs": [],
   "source": [
    "df_peoples_daily_pos_201401=pd.DataFrame(dict_tagged, columns=['token', 'pos'])"
   ]
  },
  {
   "cell_type": "code",
   "execution_count": 8,
   "metadata": {},
   "outputs": [],
   "source": [
    "df_jieba=pd.DataFrame([s.strip().split() for \n",
    "                       s in open('../data_raw/jieba_dict.txt', encoding='utf8').readlines()], \n",
    "                      columns=['token', 'freq', 'pos'])"
   ]
  },
  {
   "cell_type": "code",
   "execution_count": 9,
   "metadata": {},
   "outputs": [
    {
     "data": {
      "text/plain": [
       "(349046, 1140931, 21647295, 23137272)"
      ]
     },
     "execution_count": 9,
     "metadata": {},
     "output_type": "execute_result"
    }
   ],
   "source": [
    "len(df_jieba), len(df_peoples_daily_pos_199801), len(df_peoples_daily_pos_201401), (len(df_jieba)+len(df_peoples_daily_pos_199801)+len(df_peoples_daily_pos_201401))"
   ]
  },
  {
   "cell_type": "code",
   "execution_count": 10,
   "metadata": {},
   "outputs": [],
   "source": [
    "df_all=pd.concat([df_jieba, df_peoples_daily_pos_199801, df_peoples_daily_pos_201401], axis=0)"
   ]
  },
  {
   "cell_type": "code",
   "execution_count": 11,
   "metadata": {},
   "outputs": [
    {
     "data": {
      "text/plain": [
       "23137272"
      ]
     },
     "execution_count": 11,
     "metadata": {},
     "output_type": "execute_result"
    }
   ],
   "source": [
    "len(df_all)"
   ]
  },
  {
   "cell_type": "code",
   "execution_count": 12,
   "metadata": {},
   "outputs": [],
   "source": [
    "df_all[['token', 'freq', 'pos']].to_csv('../data_build/cn_modern_jieba/dict_pd_9801_1401.txt', sep=' ', index=False, header=False)"
   ]
  },
  {
   "cell_type": "code",
   "execution_count": null,
   "metadata": {},
   "outputs": [],
   "source": []
  }
 ],
 "metadata": {
  "kernelspec": {
   "display_name": "Python 3",
   "language": "python",
   "name": "python3"
  },
  "language_info": {
   "codemirror_mode": {
    "name": "ipython",
    "version": 3
   },
   "file_extension": ".py",
   "mimetype": "text/x-python",
   "name": "python",
   "nbconvert_exporter": "python",
   "pygments_lexer": "ipython3",
   "version": "3.6.4"
  },
  "toc": {
   "colors": {
    "hover_highlight": "#DAA520",
    "running_highlight": "#FF0000",
    "selected_highlight": "#FFD700"
   },
   "moveMenuLeft": true,
   "nav_menu": {
    "height": "12px",
    "width": "252px"
   },
   "navigate_menu": true,
   "number_sections": true,
   "sideBar": true,
   "threshold": 4,
   "toc_cell": false,
   "toc_section_display": "block",
   "toc_window_display": false
  }
 },
 "nbformat": 4,
 "nbformat_minor": 2
}
