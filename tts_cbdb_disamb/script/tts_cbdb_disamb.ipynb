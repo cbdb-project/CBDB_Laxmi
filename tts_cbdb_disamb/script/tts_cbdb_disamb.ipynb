{
 "cells": [
  {
   "cell_type": "markdown",
   "metadata": {},
   "source": [
    "*Script purpose: TTS-CBDB Kinship disambiguation.*\n",
    "\n",
    "### First phase: Exactly matching\n",
    "1. Restrict kinship type: \"子\". Kinship code:\n",
    "```Python\n",
    "kin_code_list_son=['180','182','183','184','185','186','191','193','194','195','196','198',\n",
    "                   '199','202','205','206','207','211','212','213','214','220','221','222',\n",
    "                   '226','229','231','234','235','307','326','339','436','560','568','572','575',]\n",
    "```\n",
    "2. Construct a list of pairs using CBDB data: ego person's CBDB ID + kinship person's name (we have CBDB ID), e.g.,\n",
    "```Python\n",
    "[[0, '田照鄰'],\n",
    " [1, '安邡'],\n",
    " [1, '安邠'],\n",
    " [1, '安郊'],\n",
    " [1, '安邦'],\n",
    " [3, '安扶'],\n",
    " [4, '查沖之'],\n",
    " [4, '查循之'],\n",
    " [6, '柴貽範'],\n",
    " [12, '晁子與'],\n",
    " [10097, '宋璲']]\n",
    "```\n",
    "3. Construct pairs using TTS data: ego person's CBDB ID (we have this) + kinship person's name (we don't have CBDB ID), e.g., \n",
    "```Python\n",
    "[[56812, '富察昌齡'],\n",
    " [56812, '富察科占'],\n",
    " [56812, '富察查納'],\n",
    " [56813, '邵桓'],\n",
    " [56814, '刁錄'],\n",
    " [56814, '刁鈞'],\n",
    " [56814, '刁安仁'],\n",
    " [56814, '刁錦'],\n",
    " [56815, '邵鐸'],\n",
    " [56816, '于廷翼'],\n",
    " [10097, '宋璲']]\n",
    "```\n",
    "very similar to #2, but we don't have CBDB's ID for the kinship persons.\n",
    "4. find the intersection of the two lists, in the example, it is `[10097, '宋璲']`, then we give `宋璲`'s CBDB ID to TTS, i.e., `120940`.\n",
    "5. Kinship type \"子\" resolves 233 pairs of TTS records (total: 7983 pairs). 3%, not that bad.\n",
    "\n",
    "### Second Phase: Kinship normalization.\n",
    "\n",
    "- Basic principle: Maximize the utilization of the kinship information in CBDB in disambiguating TTS records.\n",
    "- Task: Resolve the missing information (i.e., CBDB ID) in TTS kinship network (KN) using information from CBDB kinship network (KN).\n",
    "- The task requires: TTS KN (TKN) is comparable to CBDB KN (CKN).\n",
    "- However: TKN and CKN is not apple to apple;\n",
    "- Because: we don't have a normalized/standard kinship network representation method.\n",
    "\n",
    "In order to have a normalized/standard kinship network representation method, we need:\n",
    "- Have a list of basic kinship relationships, this is discussed by many studies including Deng Ke's;\n",
    "- But: the basic relationships and representation method are not ontologically neat (normalized), i.e., some of the basic relationships can be represented by other basic relationships. \n",
    "    - For example, by using Deng Ke's method, if A is B's son, then B is A's father. \n",
    "    - There are two types of information represented here: A and B are male, A is the child of B. Gender is the character of people, kinship is the character of relationship.\n",
    "\n",
    "So a better kinship relationship representation method should be:\n",
    "- Gender is the attribute of nodes, basic kinship relationship is the attribute of ties.\n",
    "- Basic kinship relationship only includes: child, spouse.\n",
    "- Immediate family is defined as: two nodes connected through \"spouse\" and their child nodes.\n",
    "- Calculate other kinship relationship by using the shortest path between two nodes.\n",
    "- This is very interesting because the \"shortest path\" method is how we \"calculate\" kinship in the real world. \n",
    "- This makes sense because calculation based on shortest path requires least cognitive workload."
   ]
  },
  {
   "cell_type": "code",
   "execution_count": 1,
   "metadata": {},
   "outputs": [],
   "source": [
    "% matplotlib inline\n",
    "import sqlite3\n",
    "import pandas as pd\n",
    "import networkx as nx\n",
    "import xlrd\n",
    "import matplotlib.pyplot as plt\n",
    "import math\n",
    "import warnings\n",
    "from tqdm import tqdm\n",
    "warnings.filterwarnings('ignore')\n",
    "plt.style.use('ggplot')"
   ]
  },
  {
   "cell_type": "code",
   "execution_count": 24,
   "metadata": {},
   "outputs": [],
   "source": [
    "# Read data.\n",
    "conn = sqlite3.connect('../../SQL/20170424CBDBauUserSqlite.db')\n",
    "df_kin_data=pd.read_sql_query(\"SELECT * FROM KIN_DATA\", conn)\n",
    "df_biog_main=pd.read_sql_query(\"SELECT * FROM BIOG_MAIN\", conn).set_index('c_personid')\n",
    "df_kinship_codes=pd.read_sql_query(\"SELECT * FROM KINSHIP_CODES\", conn).set_index('c_kincode')\n",
    "df_kin_tts=pd.read_excel('../data_file/110305 Kinship data (TTS_MQ for Deng Ke).xls', sheet_name='DATA')"
   ]
  },
  {
   "cell_type": "code",
   "execution_count": 104,
   "metadata": {},
   "outputs": [
    {
     "data": {
      "text/html": [
       "<div>\n",
       "<style scoped>\n",
       "    .dataframe tbody tr th:only-of-type {\n",
       "        vertical-align: middle;\n",
       "    }\n",
       "\n",
       "    .dataframe tbody tr th {\n",
       "        vertical-align: top;\n",
       "    }\n",
       "\n",
       "    .dataframe thead th {\n",
       "        text-align: right;\n",
       "    }\n",
       "</style>\n",
       "<table border=\"1\" class=\"dataframe\">\n",
       "  <thead>\n",
       "    <tr style=\"text-align: right;\">\n",
       "      <th></th>\n",
       "      <th>line_id</th>\n",
       "    </tr>\n",
       "    <tr>\n",
       "      <th>this is the relationship of the kin to EGO in Chinese</th>\n",
       "      <th></th>\n",
       "    </tr>\n",
       "  </thead>\n",
       "  <tbody>\n",
       "    <tr>\n",
       "      <th>子</th>\n",
       "      <td>7983</td>\n",
       "    </tr>\n",
       "    <tr>\n",
       "      <th>孫</th>\n",
       "      <td>3925</td>\n",
       "    </tr>\n",
       "    <tr>\n",
       "      <th>父</th>\n",
       "      <td>3262</td>\n",
       "    </tr>\n",
       "    <tr>\n",
       "      <th>弟</th>\n",
       "      <td>1998</td>\n",
       "    </tr>\n",
       "    <tr>\n",
       "      <th>兄</th>\n",
       "      <td>1481</td>\n",
       "    </tr>\n",
       "    <tr>\n",
       "      <th>祖父</th>\n",
       "      <td>1443</td>\n",
       "    </tr>\n",
       "    <tr>\n",
       "      <th>曾孫</th>\n",
       "      <td>1276</td>\n",
       "    </tr>\n",
       "    <tr>\n",
       "      <th>曾祖父</th>\n",
       "      <td>931</td>\n",
       "    </tr>\n",
       "    <tr>\n",
       "      <th>祖</th>\n",
       "      <td>658</td>\n",
       "    </tr>\n",
       "    <tr>\n",
       "      <th>玄孫</th>\n",
       "      <td>578</td>\n",
       "    </tr>\n",
       "  </tbody>\n",
       "</table>\n",
       "</div>"
      ],
      "text/plain": [
       "                                                    line_id\n",
       "this is the relationship of the kin to EGO in C...         \n",
       "子                                                      7983\n",
       "孫                                                      3925\n",
       "父                                                      3262\n",
       "弟                                                      1998\n",
       "兄                                                      1481\n",
       "祖父                                                     1443\n",
       "曾孫                                                     1276\n",
       "曾祖父                                                     931\n",
       "祖                                                       658\n",
       "玄孫                                                      578"
      ]
     },
     "execution_count": 104,
     "metadata": {},
     "output_type": "execute_result"
    }
   ],
   "source": [
    "# Get Top 10 kinship relationship in TTS dataset.\n",
    "df_kin_tts.groupby('this is the relationship of the kin to EGO in Chinese').count()[['line_id']].sort_values(by='line_id', ascending=False)[0:10]"
   ]
  },
  {
   "cell_type": "markdown",
   "metadata": {},
   "source": [
    "### Kinship normalization."
   ]
  },
  {
   "cell_type": "code",
   "execution_count": 25,
   "metadata": {},
   "outputs": [],
   "source": [
    "df_kin_tts['line_id']=['L_'+str(s) for s in df_kin_tts['line_id']]\n",
    "df_kin_tts['CBDB PersonID of EGO']=['C_'+str(s) for s in df_kin_tts['CBDB PersonID of EGO']]"
   ]
  },
  {
   "cell_type": "code",
   "execution_count": 94,
   "metadata": {},
   "outputs": [
    {
     "data": {
      "text/html": [
       "<div>\n",
       "<style scoped>\n",
       "    .dataframe tbody tr th:only-of-type {\n",
       "        vertical-align: middle;\n",
       "    }\n",
       "\n",
       "    .dataframe tbody tr th {\n",
       "        vertical-align: top;\n",
       "    }\n",
       "\n",
       "    .dataframe thead th {\n",
       "        text-align: right;\n",
       "    }\n",
       "</style>\n",
       "<table border=\"1\" class=\"dataframe\">\n",
       "  <thead>\n",
       "    <tr style=\"text-align: right;\">\n",
       "      <th></th>\n",
       "      <th>line_id</th>\n",
       "      <th>CBDB PersonID of EGO</th>\n",
       "      <th>Name in Chinese of EGO; this is the main subject.</th>\n",
       "      <th>sys_id</th>\n",
       "      <th>This is the kin who is related to EGO.full name of kin</th>\n",
       "      <th>Kin Last Name</th>\n",
       "      <th>Kin FirstName</th>\n",
       "      <th>this is the relationship of the kin to EGO in Chinese</th>\n",
       "      <th>this is the kinship_code for the relationship of the kin to EGO</th>\n",
       "    </tr>\n",
       "  </thead>\n",
       "  <tbody>\n",
       "    <tr>\n",
       "      <th>33876</th>\n",
       "      <td>L_36717</td>\n",
       "      <td>C_69111</td>\n",
       "      <td>張懋誠</td>\n",
       "      <td>12809</td>\n",
       "      <td>張勤望</td>\n",
       "      <td>張</td>\n",
       "      <td>勤望</td>\n",
       "      <td>子</td>\n",
       "      <td>180</td>\n",
       "    </tr>\n",
       "    <tr>\n",
       "      <th>14698</th>\n",
       "      <td>L_15302</td>\n",
       "      <td>C_62072</td>\n",
       "      <td>圖伯特慶惠</td>\n",
       "      <td>5420</td>\n",
       "      <td>圖伯特慶祥</td>\n",
       "      <td>圖伯特</td>\n",
       "      <td>慶祥</td>\n",
       "      <td>兄</td>\n",
       "      <td>125</td>\n",
       "    </tr>\n",
       "    <tr>\n",
       "      <th>12829</th>\n",
       "      <td>L_13261</td>\n",
       "      <td>C_60940</td>\n",
       "      <td>高連升</td>\n",
       "      <td>4262</td>\n",
       "      <td>高承業</td>\n",
       "      <td>高</td>\n",
       "      <td>承業</td>\n",
       "      <td>子</td>\n",
       "      <td>180</td>\n",
       "    </tr>\n",
       "    <tr>\n",
       "      <th>31728</th>\n",
       "      <td>L_34368</td>\n",
       "      <td>C_68140</td>\n",
       "      <td>李時</td>\n",
       "      <td>11796</td>\n",
       "      <td>李鏸</td>\n",
       "      <td>李</td>\n",
       "      <td>鏸</td>\n",
       "      <td>孫</td>\n",
       "      <td>243</td>\n",
       "    </tr>\n",
       "    <tr>\n",
       "      <th>4113</th>\n",
       "      <td>L_4202</td>\n",
       "      <td>C_57507</td>\n",
       "      <td>鈕祜祿策楞</td>\n",
       "      <td>735</td>\n",
       "      <td>鈕祜祿訥親</td>\n",
       "      <td>鈕祜祿</td>\n",
       "      <td>訥親</td>\n",
       "      <td>弟</td>\n",
       "      <td>126</td>\n",
       "    </tr>\n",
       "    <tr>\n",
       "      <th>4342</th>\n",
       "      <td>L_4433</td>\n",
       "      <td>C_57554</td>\n",
       "      <td>西林覺羅鄂樂舜</td>\n",
       "      <td>782</td>\n",
       "      <td>錫林覺羅鄂爾泰</td>\n",
       "      <td>西林覺羅</td>\n",
       "      <td>錫林覺羅鄂爾泰</td>\n",
       "      <td>伯叔父</td>\n",
       "      <td>79</td>\n",
       "    </tr>\n",
       "    <tr>\n",
       "      <th>30002</th>\n",
       "      <td>L_32568</td>\n",
       "      <td>C_67693</td>\n",
       "      <td>朱載壑</td>\n",
       "      <td>11320</td>\n",
       "      <td>朱載土匱</td>\n",
       "      <td>朱</td>\n",
       "      <td>載土匱</td>\n",
       "      <td>弟</td>\n",
       "      <td>126</td>\n",
       "    </tr>\n",
       "    <tr>\n",
       "      <th>20548</th>\n",
       "      <td>L_22001</td>\n",
       "      <td>C_65820</td>\n",
       "      <td>愛新覺羅綿岫</td>\n",
       "      <td>9288</td>\n",
       "      <td>王氏</td>\n",
       "      <td>王</td>\n",
       "      <td>氏</td>\n",
       "      <td>妾</td>\n",
       "      <td>168</td>\n",
       "    </tr>\n",
       "    <tr>\n",
       "      <th>8268</th>\n",
       "      <td>L_8478</td>\n",
       "      <td>C_58593</td>\n",
       "      <td>王東槐</td>\n",
       "      <td>1852</td>\n",
       "      <td>王宜勗</td>\n",
       "      <td>王</td>\n",
       "      <td>宜勗</td>\n",
       "      <td>子</td>\n",
       "      <td>180</td>\n",
       "    </tr>\n",
       "    <tr>\n",
       "      <th>29305</th>\n",
       "      <td>L_31853</td>\n",
       "      <td>C_67637</td>\n",
       "      <td>朱常洵</td>\n",
       "      <td>11260</td>\n",
       "      <td>朱常治</td>\n",
       "      <td>朱</td>\n",
       "      <td>常治</td>\n",
       "      <td>弟</td>\n",
       "      <td>126</td>\n",
       "    </tr>\n",
       "  </tbody>\n",
       "</table>\n",
       "</div>"
      ],
      "text/plain": [
       "       line_id CBDB PersonID of EGO  \\\n",
       "33876  L_36717              C_69111   \n",
       "14698  L_15302              C_62072   \n",
       "12829  L_13261              C_60940   \n",
       "31728  L_34368              C_68140   \n",
       "4113    L_4202              C_57507   \n",
       "4342    L_4433              C_57554   \n",
       "30002  L_32568              C_67693   \n",
       "20548  L_22001              C_65820   \n",
       "8268    L_8478              C_58593   \n",
       "29305  L_31853              C_67637   \n",
       "\n",
       "      Name in Chinese of EGO; this is the main subject.   sys_id  \\\n",
       "33876                                                張懋誠   12809   \n",
       "14698                                              圖伯特慶惠    5420   \n",
       "12829                                                高連升    4262   \n",
       "31728                                                 李時   11796   \n",
       "4113                                               鈕祜祿策楞     735   \n",
       "4342                                             西林覺羅鄂樂舜     782   \n",
       "30002                                                朱載壑   11320   \n",
       "20548                                             愛新覺羅綿岫    9288   \n",
       "8268                                                 王東槐    1852   \n",
       "29305                                                朱常洵   11260   \n",
       "\n",
       "      This is the kin who is related to EGO.full name of kin Kin Last Name  \\\n",
       "33876                                                張勤望                 張   \n",
       "14698                                              圖伯特慶祥               圖伯特   \n",
       "12829                                                高承業                 高   \n",
       "31728                                                 李鏸                 李   \n",
       "4113                                               鈕祜祿訥親               鈕祜祿   \n",
       "4342                                             錫林覺羅鄂爾泰              西林覺羅   \n",
       "30002                                               朱載土匱                 朱   \n",
       "20548                                                 王氏                 王   \n",
       "8268                                                 王宜勗                 王   \n",
       "29305                                                朱常治                 朱   \n",
       "\n",
       "      Kin FirstName this is the relationship of the kin to EGO in Chinese  \\\n",
       "33876            勤望                                                  子      \n",
       "14698            慶祥                                                  兄      \n",
       "12829            承業                                                  子      \n",
       "31728             鏸                                                  孫      \n",
       "4113             訥親                                                  弟      \n",
       "4342        錫林覺羅鄂爾泰                                                伯叔父      \n",
       "30002           載土匱                                                  弟      \n",
       "20548             氏                                                  妾      \n",
       "8268             宜勗                                                  子      \n",
       "29305            常治                                                  弟      \n",
       "\n",
       "       this is the kinship_code for the relationship of the kin to EGO  \n",
       "33876                                                180                \n",
       "14698                                                125                \n",
       "12829                                                180                \n",
       "31728                                                243                \n",
       "4113                                                 126                \n",
       "4342                                                  79                \n",
       "30002                                                126                \n",
       "20548                                                168                \n",
       "8268                                                 180                \n",
       "29305                                                126                "
      ]
     },
     "execution_count": 94,
     "metadata": {},
     "output_type": "execute_result"
    }
   ],
   "source": [
    "df_kin_tts.sample(10)"
   ]
  },
  {
   "cell_type": "code",
   "execution_count": 106,
   "metadata": {},
   "outputs": [
    {
     "name": "stderr",
     "output_type": "stream",
     "text": [
      "100%|██████████| 34758/34758 [00:55<00:00, 627.60it/s]\n"
     ]
    }
   ],
   "source": [
    "g_tts_kin=nx.Graph()\n",
    "for index in tqdm(df_kin_tts.index):\n",
    "    edge=df_kin_tts.loc[index][['line_id', 'CBDB PersonID of EGO']]\n",
    "    edge_attr=df_kin_tts.loc[index]['this is the relationship of the kin to EGO in Chinese']\n",
    "    g_tts_kin.add_edges_from([edge.tolist()], kin_nm=edge_attr)\n",
    "    g_tts_kin.node[edge[0]]['name']=df_kin_tts.loc[index, 'Name in Chinese of EGO; this is the main subject. ']\n",
    "    g_tts_kin.node[edge[1]]['name']=df_kin_tts.loc[index, 'This is the kin who is related to EGO.full name of kin']"
   ]
  },
  {
   "cell_type": "code",
   "execution_count": 113,
   "metadata": {},
   "outputs": [
    {
     "data": {
      "text/plain": [
       "({'name': '刁錦'}, {'gender': 0, 'name': '刁承祖'})"
      ]
     },
     "execution_count": 113,
     "metadata": {},
     "output_type": "execute_result"
    }
   ],
   "source": [
    "g_tts_kin.node['C_56814'], g_tts_kin.node['L_10']"
   ]
  },
  {
   "cell_type": "code",
   "execution_count": 111,
   "metadata": {},
   "outputs": [
    {
     "data": {
      "text/plain": [
       "[('C_56814', 'L_9', {'kin_nm': '曾祖父', 'weight': 3}),\n",
       " ('C_56814', 'L_10', {'kin_nm': '祖父', 'weight': 2}),\n",
       " ('C_56814', 'L_11', {'kin_nm': '父', 'weight': 1}),\n",
       " ('C_56814', 'L_12', {'kin_nm': '子', 'weight': -1}),\n",
       " ('C_56814', 'L_13', {'kin_nm': '子', 'weight': -1}),\n",
       " ('C_56814', 'L_14', {'kin_nm': '子', 'weight': -1}),\n",
       " ('C_56814', 'L_15', {'kin_nm': '子', 'weight': -1})]"
      ]
     },
     "execution_count": 111,
     "metadata": {},
     "output_type": "execute_result"
    }
   ],
   "source": [
    "list(g_tts_kin.edges('C_56814', data=True))"
   ]
  },
  {
   "cell_type": "code",
   "execution_count": 109,
   "metadata": {},
   "outputs": [],
   "source": [
    "'''\n",
    "Prepare to \"nomalize\" the kinship:\n",
    "    - Edge weight records parental relationship.\n",
    "    - Gender: 0 = male; 1 = female.\n",
    "'''\n",
    "\n",
    "for edge in g_tts_kin.edges:\n",
    "    kin_nm=g_tts_kin[edge[0]][edge[1]]['kin_nm']\n",
    "    kin_node=[s for s in edge if s.startswith('L')][0]\n",
    "    \n",
    "    if kin_nm=='父':\n",
    "        g_tts_kin[edge[0]][edge[1]]['weight']=1\n",
    "        g_tts_kin.node[kin_node]['gender']=0\n",
    "    elif kin_nm=='祖父':\n",
    "        g_tts_kin[edge[0]][edge[1]]['weight']=2\n",
    "        g_tts_kin.node[kin_node]['gender']=0\n",
    "    elif kin_nm=='曾祖父':\n",
    "        g_tts_kin[edge[0]][edge[1]]['weight']=3\n",
    "        g_tts_kin.node[kin_node]['gender']=0\n",
    "        \n",
    "    elif kin_nm=='子':\n",
    "        g_tts_kin[edge[0]][edge[1]]['weight']=-1\n",
    "        g_tts_kin.node[kin_node]['gender']=0\n",
    "    elif kin_nm=='孫':\n",
    "        g_tts_kin[edge[0]][edge[1]]['weight']=-2\n",
    "        g_tts_kin.node[kin_node]['gender']=0\n",
    "    elif kin_nm=='曾孫':\n",
    "        g_tts_kin[edge[0]][edge[1]]['weight']=-3\n",
    "        g_tts_kin.node[kin_node]['gender']=0\n",
    "    elif kin_nm=='玄孫':\n",
    "        g_tts_kin[edge[0]][edge[1]]['weight']=-4\n",
    "        g_tts_kin.node[kin_node]['gender']=0\n",
    "        \n",
    "    elif kin_nm=='弟' or kin_nm=='兄':\n",
    "        g_tts_kin[edge[0]][edge[1]]['weight']=0\n",
    "        g_tts_kin.node[kin_node]['gender']=0"
   ]
  },
  {
   "cell_type": "code",
   "execution_count": 128,
   "metadata": {},
   "outputs": [
    {
     "data": {
      "text/plain": [
       "22877"
      ]
     },
     "execution_count": 128,
     "metadata": {},
     "output_type": "execute_result"
    }
   ],
   "source": [
    "len([g_tts_kin[edge[0]][edge[1]] for edge in g_tts_kin.edges if 'weight' in g_tts_kin[edge[0]][edge[1]].keys()])"
   ]
  },
  {
   "cell_type": "code",
   "execution_count": 129,
   "metadata": {},
   "outputs": [
    {
     "data": {
      "text/plain": [
       "34758"
      ]
     },
     "execution_count": 129,
     "metadata": {},
     "output_type": "execute_result"
    }
   ],
   "source": [
    "len(g_tts_kin.edges)"
   ]
  },
  {
   "cell_type": "markdown",
   "metadata": {},
   "source": [
    "#### TODO: add missing links using info of weights."
   ]
  },
  {
   "cell_type": "markdown",
   "metadata": {},
   "source": [
    "### Exactly Matching."
   ]
  },
  {
   "cell_type": "markdown",
   "metadata": {},
   "source": [
    "#### First let's try various types of sons."
   ]
  },
  {
   "cell_type": "code",
   "execution_count": 84,
   "metadata": {},
   "outputs": [
    {
     "name": "stderr",
     "output_type": "stream",
     "text": [
      "100%|██████████| 122492/122492 [00:07<00:00, 15506.81it/s]\n",
      "100%|██████████| 9163/9163 [00:00<00:00, 23521.31it/s]\n"
     ]
    },
    {
     "data": {
      "text/plain": [
       "251"
      ]
     },
     "execution_count": 84,
     "metadata": {},
     "output_type": "execute_result"
    }
   ],
   "source": [
    "##### Construct Father-Son pair from CBDB.\n",
    "kin_code_list_son=[s for s in df_kinship_codes.index if '子' in str(df_kinship_codes.loc[s]['c_kinrel_chn'])]\n",
    "\n",
    "df_kin_data_son=df_kin_data[df_kin_data['c_kin_code'].isin(kin_code_list_son)]\n",
    "\n",
    "father_son_list_cbdb=[]\n",
    "for index in tqdm(df_kin_data_son.index):\n",
    "    try:\n",
    "        father_c_personid=df_kin_data_son.loc[index, 'c_personid']\n",
    "        son_name=df_biog_main.loc[df_kin_data_son.loc[index, 'c_kin_id'], 'c_name_chn']\n",
    "        father_son_list_cbdb.append([father_c_personid, son_name])\n",
    "    except:\n",
    "        father_c_personid=df_kin_data_son.loc[index, 'c_personid']\n",
    "        father_son_list_cbdb.append([father_c_personid, 'son_name_NULL'])\n",
    "\n",
    "##### Construct Father-Son pair from TTS.\n",
    "df_kin_son_tts=df_kin_tts.loc[[index for index in df_kin_tts.index if '子' in df_kin_tts.loc[index]['this is the relationship of the kin to EGO in Chinese']]]\n",
    "father_son_list_tts=[]\n",
    "for index in tqdm(df_kin_son_tts.index):\n",
    "    try:\n",
    "        father_c_personid=df_kin_son_tts.loc[index, 'CBDB PersonID of EGO']\n",
    "        son_name=df_kin_son_tts.loc[index, 'This is the kin who is related to EGO.full name of kin']\n",
    "        father_son_list_tts.append([father_c_personid, son_name])\n",
    "    except:\n",
    "        father_c_personid=df_kin_son_tts.loc[index, 'CBDB PersonID of EGO']\n",
    "        father_son_list_tts.append([father_c_personid, 'son_name_NULL'])\n",
    "\n",
    "##### Get the number of intersections, i.e., number of CBDB IDs to be assigned to TTS.\n",
    "len(set([str(s) for s in father_son_list_cbdb]).intersection([str(s) for s in father_son_list_tts]))"
   ]
  },
  {
   "cell_type": "markdown",
   "metadata": {},
   "source": [
    "#### Let's build the process in bulk."
   ]
  },
  {
   "cell_type": "code",
   "execution_count": 6,
   "metadata": {},
   "outputs": [
    {
     "name": "stdout",
     "output_type": "stream",
     "text": [
      "Kinship_recognized\t#Records_recognized\n",
      "子\t251\n",
      "孫\t32\n",
      "父\t530\n",
      "弟\t111\n",
      "兄\t79\n",
      "祖父\t147\n",
      "曾孫\t2\n",
      "曾祖父\t0\n",
      "祖\t302\n",
      "玄孫\t1\n",
      "曾祖\t116\n",
      "姪\t3\n",
      "祖先\t0\n",
      "高祖父\t0\n",
      "兄弟\t1\n",
      "後代\t0\n",
      "婿\t15\n",
      "母\t4\n",
      "叔\t1\n",
      "長子\t1\n"
     ]
    }
   ],
   "source": [
    "print('Kinship_recognized'+'\\t'+'#Records_recognized')\n",
    "for kr_str in df_kin_tts.groupby('this is the relationship of the kin to EGO in Chinese').count()[['line_id']].sort_values(by='line_id', ascending=False)[0:20].index:\n",
    "    # KR = kinship to be recognized.\n",
    "    print(kr_str+'\\t', end='')\n",
    "    ##### Construct KR pair from CBDB.\n",
    "    kin_code_list_kr=[s for s in df_kinship_codes.index if kr_str in str(df_kinship_codes.loc[s]['c_kinrel_chn'])]\n",
    "    df_kin_data_kr=df_kin_data[df_kin_data['c_kin_code'].isin(kin_code_list_kr)]\n",
    "    kr_list_cbdb=[]\n",
    "    for index in df_kin_data_kr.index:\n",
    "        try:\n",
    "            c_personid=df_kin_data_kr.loc[index, 'c_personid']\n",
    "            kr_name=df_biog_main.loc[df_kin_data_kr.loc[index, 'c_kin_id'], 'c_name_chn']\n",
    "            kr_list_cbdb.append([c_personid, kr_name])\n",
    "        except:\n",
    "            c_personid=df_kin_data_kr.loc[index, 'c_personid']\n",
    "            kr_list_cbdb.append([c_personid, 'kr_name_NULL'])\n",
    "\n",
    "    ##### Construct KR pair from TTS.\n",
    "    df_kin_kr_tts=df_kin_tts.loc[[index for index in df_kin_tts.index if kr_str in df_kin_tts.loc[index]['this is the relationship of the kin to EGO in Chinese']]]\n",
    "    kr_list_tts=[]\n",
    "    for index in df_kin_kr_tts.index:\n",
    "        try:\n",
    "            c_personid=df_kin_kr_tts.loc[index, 'CBDB PersonID of EGO']\n",
    "            kr_name=df_kin_kr_tts.loc[index, 'This is the kin who is related to EGO.full name of kin']\n",
    "            kr_list_tts.append([c_personid, kr_name])\n",
    "        except:\n",
    "            c_personid=df_kin_kr_tts.loc[index, 'CBDB PersonID of EGO']\n",
    "            kr_list_tts.append([c_personid, 'kr_name_NULL'])\n",
    "\n",
    "    ##### Get the number of intersections, i.e., number of CBDB IDs to be assigned to TTS.\n",
    "    print(len(set([str(s) for s in kr_list_cbdb]).intersection([str(s) for s in kr_list_tts])))"
   ]
  },
  {
   "cell_type": "markdown",
   "metadata": {},
   "source": [
    "### Draft."
   ]
  },
  {
   "cell_type": "code",
   "execution_count": null,
   "metadata": {},
   "outputs": [],
   "source": [
    "df_kinship_codes.to_excel('dump/df_kinship_codes.xlsx', encoding='utf8')"
   ]
  },
  {
   "cell_type": "code",
   "execution_count": null,
   "metadata": {},
   "outputs": [],
   "source": [
    "len([s for s in df_tobe_done['this is the relationship of the kin to EGO in Chinese'] if '子' in s])"
   ]
  }
 ],
 "metadata": {
  "kernelspec": {
   "display_name": "Python 3",
   "language": "python",
   "name": "python3"
  },
  "language_info": {
   "codemirror_mode": {
    "name": "ipython",
    "version": 3
   },
   "file_extension": ".py",
   "mimetype": "text/x-python",
   "name": "python",
   "nbconvert_exporter": "python",
   "pygments_lexer": "ipython3",
   "version": "3.6.4"
  }
 },
 "nbformat": 4,
 "nbformat_minor": 2
}
