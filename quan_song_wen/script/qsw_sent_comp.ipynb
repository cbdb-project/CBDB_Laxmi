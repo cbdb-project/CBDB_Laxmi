{
 "cells": [
  {
   "cell_type": "markdown",
   "metadata": {},
   "source": [
    "### Workflow: Extracting information by subtracting.\n",
    "\n",
    "1. First, we need to decrease the \"noise\" as much as possible.\n",
    "    - Cut content into sentences.\n",
    "    - Mark sentences with kinship dictionary.\n",
    "    - drop sentences without kinship words.\n",
    "2. Sentence compression.\n",
    "    - Some sentences have office title or place name before person name.\n",
    "    - Extract office titles (marked as `\"/no_noc/\"`) and places (marked as `\"/ns/\"`) to seperate columns.\n",
    "    - Compress/subtract the sentences to only include kinship titles and person names.\n",
    "3. Kinship information extraction.\n",
    "    - Run regular expressions on compressed sentences.\n",
    "    \n",
    "#### Problems and TODOs:\n",
    "- [X] - \"Include code IDs\": \n",
    "    - Not for the relationship extraction step, since there may be duplicates of office titles/place names, complicate current tasks.\n",
    "    - Therefore, no need to put the IDs in dictionaries.\n",
    "- [X] - Words to be tagged:\n",
    "    - Office title and place names used in Song dynasty.\n",
    "    - Office titles and kinship names are overlapped, e.g., 子, 伯: Should be solved by using refined titles.\n",
    "- [X] - Order effect:\n",
    "    - e.g., 昭武軍節度，if meet 節度 first, will be 昭武軍/no/ after subtraction.\n",
    "    - Solution: order the dictionary by length of characters, therefore, 昭武軍節度 will be matched first.\n",
    "- [X] - Tagging more words:\n",
    "    - [x] Update dictionaries (`no_noc`, `nk`, `vno`).\n",
    "    - [x] Tag exact positions instead of combining, e.g.:\n",
    "        - sent_comp: 解州解/no_noc//wsep/累贈/no_noc/諱禹偁/wsep/追封彭城/no_noc/徐氏/wsep/廣陵/no_noc/王氏/wsep/睢陽/no_noc/宋氏/wsep/祖考妣也\n",
    "        - no_noc: 禮部尚書#郡太君#郡太君#郡太君#縣令\n",
    "    - [x] Appointment verbs (`APPOINTMENT_TYPE_CODES`).\n",
    "    - Entry data (`ENTRY_CODES`).\n"
   ]
  },
  {
   "cell_type": "code",
   "execution_count": 1,
   "metadata": {},
   "outputs": [],
   "source": [
    "import pandas as pd\n",
    "import re\n",
    "from tqdm import tqdm\n",
    "import math"
   ]
  },
  {
   "cell_type": "markdown",
   "metadata": {},
   "source": [
    "### Prepare dictionaries."
   ]
  },
  {
   "cell_type": "code",
   "execution_count": 2,
   "metadata": {},
   "outputs": [
    {
     "data": {
      "text/html": [
       "<div>\n",
       "<style scoped>\n",
       "    .dataframe tbody tr th:only-of-type {\n",
       "        vertical-align: middle;\n",
       "    }\n",
       "\n",
       "    .dataframe tbody tr th {\n",
       "        vertical-align: top;\n",
       "    }\n",
       "\n",
       "    .dataframe thead th {\n",
       "        text-align: right;\n",
       "    }\n",
       "</style>\n",
       "<table border=\"1\" class=\"dataframe\">\n",
       "  <thead>\n",
       "    <tr style=\"text-align: right;\">\n",
       "      <th></th>\n",
       "      <th>name</th>\n",
       "      <th>关系说明</th>\n",
       "      <th>亲属编码</th>\n",
       "      <th>pos</th>\n",
       "    </tr>\n",
       "  </thead>\n",
       "  <tbody>\n",
       "    <tr>\n",
       "      <th>216</th>\n",
       "      <td>外王母</td>\n",
       "      <td>MM</td>\n",
       "      <td>371</td>\n",
       "      <td>nk</td>\n",
       "    </tr>\n",
       "    <tr>\n",
       "      <th>72</th>\n",
       "      <td>先父</td>\n",
       "      <td>F</td>\n",
       "      <td>75</td>\n",
       "      <td>nk</td>\n",
       "    </tr>\n",
       "    <tr>\n",
       "      <th>246</th>\n",
       "      <td>第八子</td>\n",
       "      <td>S8</td>\n",
       "      <td>199</td>\n",
       "      <td>nk</td>\n",
       "    </tr>\n",
       "  </tbody>\n",
       "</table>\n",
       "</div>"
      ],
      "text/plain": [
       "    name 关系说明 亲属编码 pos\n",
       "216  外王母   MM  371  nk\n",
       "72    先父    F   75  nk\n",
       "246  第八子   S8  199  nk"
      ]
     },
     "execution_count": 2,
     "metadata": {},
     "output_type": "execute_result"
    }
   ],
   "source": [
    "song_kin_title=pd.read_excel('../../../NLP/cn_corpus/data_raw/song_kinship_title.xlsx')\n",
    "song_kin_title.rename(columns={'名称':'name'}, inplace=True)\n",
    "song_kin_title['pos']='nk'\n",
    "song_kin_title.sample(3)"
   ]
  },
  {
   "cell_type": "code",
   "execution_count": 3,
   "metadata": {},
   "outputs": [
    {
     "data": {
      "text/html": [
       "<div>\n",
       "<style scoped>\n",
       "    .dataframe tbody tr th:only-of-type {\n",
       "        vertical-align: middle;\n",
       "    }\n",
       "\n",
       "    .dataframe tbody tr th {\n",
       "        vertical-align: top;\n",
       "    }\n",
       "\n",
       "    .dataframe thead th {\n",
       "        text-align: right;\n",
       "    }\n",
       "</style>\n",
       "<table border=\"1\" class=\"dataframe\">\n",
       "  <thead>\n",
       "    <tr style=\"text-align: right;\">\n",
       "      <th></th>\n",
       "      <th>c_appt_type_code</th>\n",
       "      <th>name</th>\n",
       "      <th>c_appt_type_desc</th>\n",
       "      <th>check</th>\n",
       "      <th>Unnamed: 4</th>\n",
       "      <th>Unnamed: 5</th>\n",
       "      <th>Unnamed: 6</th>\n",
       "      <th>pos</th>\n",
       "    </tr>\n",
       "  </thead>\n",
       "  <tbody>\n",
       "    <tr>\n",
       "      <th>48</th>\n",
       "      <td>55</td>\n",
       "      <td>贈署</td>\n",
       "      <td>NaN</td>\n",
       "      <td>1</td>\n",
       "      <td>NaN</td>\n",
       "      <td>NaN</td>\n",
       "      <td>NaN</td>\n",
       "      <td>vno</td>\n",
       "    </tr>\n",
       "    <tr>\n",
       "      <th>26</th>\n",
       "      <td>33</td>\n",
       "      <td>簽書</td>\n",
       "      <td>Used When The Official'S Rank Is Lower Than Th...</td>\n",
       "      <td>NaN</td>\n",
       "      <td>NaN</td>\n",
       "      <td>NaN</td>\n",
       "      <td>NaN</td>\n",
       "      <td>vno</td>\n",
       "    </tr>\n",
       "    <tr>\n",
       "      <th>46</th>\n",
       "      <td>53</td>\n",
       "      <td>援例</td>\n",
       "      <td>NaN</td>\n",
       "      <td>1</td>\n",
       "      <td>NaN</td>\n",
       "      <td>NaN</td>\n",
       "      <td>NaN</td>\n",
       "      <td>vno</td>\n",
       "    </tr>\n",
       "  </tbody>\n",
       "</table>\n",
       "</div>"
      ],
      "text/plain": [
       "    c_appt_type_code name                                   c_appt_type_desc  \\\n",
       "48                55   贈署                                                NaN   \n",
       "26                33   簽書  Used When The Official'S Rank Is Lower Than Th...   \n",
       "46                53   援例                                                NaN   \n",
       "\n",
       "   check Unnamed: 4  Unnamed: 5 Unnamed: 6  pos  \n",
       "48     1        NaN         NaN        NaN  vno  \n",
       "26   NaN        NaN         NaN        NaN  vno  \n",
       "46     1        NaN         NaN        NaN  vno  "
      ]
     },
     "execution_count": 3,
     "metadata": {},
     "output_type": "execute_result"
    }
   ],
   "source": [
    "song_appt_type=pd.read_excel('../../../NLP/cn_corpus/data_raw/song_appt_type.xlsx')\n",
    "song_appt_type.rename(columns={'c_appt_type_desc_chn':'name'}, inplace=True)\n",
    "song_appt_type['pos']='vno'\n",
    "song_appt_type.sample(3)"
   ]
  },
  {
   "cell_type": "code",
   "execution_count": 4,
   "metadata": {},
   "outputs": [],
   "source": [
    "song_appt_type[['name', 'pos']].to_csv('../../../NLP/cn_corpus/data_build/cn_traditional_jieba/song_vno_dict.csv', \n",
    "                                       index=False, sep='\\t')\n",
    "song_kin_title[['name', 'pos']].to_csv('../../../NLP/cn_corpus/data_build/cn_traditional_jieba/song_nk_dict.csv', \n",
    "                                       index=False, sep='\\t')"
   ]
  },
  {
   "cell_type": "markdown",
   "metadata": {},
   "source": [
    "### Sentence compression."
   ]
  },
  {
   "cell_type": "markdown",
   "metadata": {},
   "source": [
    "#### Select sentences with kinship information."
   ]
  },
  {
   "cell_type": "code",
   "execution_count": 5,
   "metadata": {},
   "outputs": [],
   "source": [
    "# Read kinship dictionary. nk = POS Kinship.\n",
    "df_nk=pd.read_csv('../data_dict/song_nk_dict.csv', sep='\\t', header=None).rename(columns={0:'name', 1:'pos'})\n",
    "# Read office title. no = office title. noc = office category.\n",
    "df_no_noc=pd.read_csv('../data_dict/song_no_noc_dict.csv', sep='\\t', header=None).rename(columns={0:'name', 1:'pos'})\n",
    "df_ns=pd.read_csv('../data_dict/song_ns_dict.csv', sep='\\t', header=None).rename(columns={0:'name', 1:'pos'})\n",
    "df_vno=pd.read_csv('../data_dict/song_vno_dict.csv', sep='\\t')\n",
    "df_nz=pd.read_csv('../data_dict/song_nz_dict.csv', sep='\\t', header=None).rename(columns={0:'name', 1:'pos'})\n",
    "df_kin_mismatch=pd.read_csv('../data_dict/kin_mismatch.csv', sep='\\t', header=None).rename(columns={0:'name'})"
   ]
  },
  {
   "cell_type": "code",
   "execution_count": 6,
   "metadata": {},
   "outputs": [
    {
     "data": {
      "text/html": [
       "<div>\n",
       "<style scoped>\n",
       "    .dataframe tbody tr th:only-of-type {\n",
       "        vertical-align: middle;\n",
       "    }\n",
       "\n",
       "    .dataframe tbody tr th {\n",
       "        vertical-align: top;\n",
       "    }\n",
       "\n",
       "    .dataframe thead th {\n",
       "        text-align: right;\n",
       "    }\n",
       "</style>\n",
       "<table border=\"1\" class=\"dataframe\">\n",
       "  <thead>\n",
       "    <tr style=\"text-align: right;\">\n",
       "      <th></th>\n",
       "      <th>name</th>\n",
       "      <th>pos</th>\n",
       "    </tr>\n",
       "  </thead>\n",
       "  <tbody>\n",
       "    <tr>\n",
       "      <th>636</th>\n",
       "      <td>王父</td>\n",
       "      <td>nk</td>\n",
       "    </tr>\n",
       "    <tr>\n",
       "      <th>607</th>\n",
       "      <td>從母</td>\n",
       "      <td>nk</td>\n",
       "    </tr>\n",
       "    <tr>\n",
       "      <th>574</th>\n",
       "      <td>玄孫</td>\n",
       "      <td>nk</td>\n",
       "    </tr>\n",
       "  </tbody>\n",
       "</table>\n",
       "</div>"
      ],
      "text/plain": [
       "    name pos\n",
       "636   王父  nk\n",
       "607   從母  nk\n",
       "574   玄孫  nk"
      ]
     },
     "execution_count": 6,
     "metadata": {},
     "output_type": "execute_result"
    }
   ],
   "source": [
    "df_nk.sample(3)"
   ]
  },
  {
   "cell_type": "code",
   "execution_count": 7,
   "metadata": {},
   "outputs": [
    {
     "data": {
      "text/html": [
       "<div>\n",
       "<style scoped>\n",
       "    .dataframe tbody tr th:only-of-type {\n",
       "        vertical-align: middle;\n",
       "    }\n",
       "\n",
       "    .dataframe tbody tr th {\n",
       "        vertical-align: top;\n",
       "    }\n",
       "\n",
       "    .dataframe thead th {\n",
       "        text-align: right;\n",
       "    }\n",
       "</style>\n",
       "<table border=\"1\" class=\"dataframe\">\n",
       "  <thead>\n",
       "    <tr style=\"text-align: right;\">\n",
       "      <th></th>\n",
       "      <th>name</th>\n",
       "    </tr>\n",
       "  </thead>\n",
       "  <tbody>\n",
       "    <tr>\n",
       "      <th>73</th>\n",
       "      <td>考覈</td>\n",
       "    </tr>\n",
       "    <tr>\n",
       "      <th>16</th>\n",
       "      <td>壬子</td>\n",
       "    </tr>\n",
       "    <tr>\n",
       "      <th>30</th>\n",
       "      <td>老子</td>\n",
       "    </tr>\n",
       "  </tbody>\n",
       "</table>\n",
       "</div>"
      ],
      "text/plain": [
       "   name\n",
       "73   考覈\n",
       "16   壬子\n",
       "30   老子"
      ]
     },
     "execution_count": 7,
     "metadata": {},
     "output_type": "execute_result"
    }
   ],
   "source": [
    "df_kin_mismatch.sample(3)"
   ]
  },
  {
   "cell_type": "code",
   "execution_count": 8,
   "metadata": {},
   "outputs": [
    {
     "data": {
      "text/html": [
       "<div>\n",
       "<style scoped>\n",
       "    .dataframe tbody tr th:only-of-type {\n",
       "        vertical-align: middle;\n",
       "    }\n",
       "\n",
       "    .dataframe tbody tr th {\n",
       "        vertical-align: top;\n",
       "    }\n",
       "\n",
       "    .dataframe thead th {\n",
       "        text-align: right;\n",
       "    }\n",
       "</style>\n",
       "<table border=\"1\" class=\"dataframe\">\n",
       "  <thead>\n",
       "    <tr style=\"text-align: right;\">\n",
       "      <th></th>\n",
       "      <th>name</th>\n",
       "      <th>pos</th>\n",
       "    </tr>\n",
       "  </thead>\n",
       "  <tbody>\n",
       "    <tr>\n",
       "      <th>230</th>\n",
       "      <td>武忠公</td>\n",
       "      <td>nz</td>\n",
       "    </tr>\n",
       "    <tr>\n",
       "      <th>249</th>\n",
       "      <td>憲節公</td>\n",
       "      <td>nz</td>\n",
       "    </tr>\n",
       "    <tr>\n",
       "      <th>380</th>\n",
       "      <td>莊懷公</td>\n",
       "      <td>nz</td>\n",
       "    </tr>\n",
       "  </tbody>\n",
       "</table>\n",
       "</div>"
      ],
      "text/plain": [
       "    name pos\n",
       "230  武忠公  nz\n",
       "249  憲節公  nz\n",
       "380  莊懷公  nz"
      ]
     },
     "execution_count": 8,
     "metadata": {},
     "output_type": "execute_result"
    }
   ],
   "source": [
    "df_nz.sample(3)"
   ]
  },
  {
   "cell_type": "code",
   "execution_count": 9,
   "metadata": {},
   "outputs": [],
   "source": [
    "# All QSW records.\n",
    "df_qsw_raw=pd.read_excel('../data_raw/quan_song_wen_muzhi.xlsx', sheet_name='墓誌銘墓表壙誌行狀神道碑塔銘墓碑')[['content_id', 'content', 'subject', 'author']].set_index('content_id')\n",
    "df_qsw_raw['content']=[str(s) for s in df_qsw_raw['content']]\n",
    "df_qsw_raw.drop(math.nan, inplace=True) # Drop index==NaN\n",
    "# Sample a subset about 10%. Annotated after testing.\n",
    "#df_qsw_raw=df_qsw_raw.sample(500)"
   ]
  },
  {
   "cell_type": "code",
   "execution_count": 10,
   "metadata": {},
   "outputs": [],
   "source": [
    "# Function for seperating sentences.\n",
    "def sep_mark_sent(string):\n",
    "    string=string.replace('，', '/wsep/').replace('；', '/wsep/').replace('、', '/wsep/')\n",
    "    string=string.replace('！', '/wend/').replace('。', '/wend/').replace('？', '/wend/').replace('！', '/wend/')\n",
    "    string=string.replace('：', '/wm/')\n",
    "    return [s for s in string.split(\"/wend/\") if s!='']"
   ]
  },
  {
   "cell_type": "code",
   "execution_count": 11,
   "metadata": {},
   "outputs": [
    {
     "name": "stderr",
     "output_type": "stream",
     "text": [
      "100%|██████████| 4763/4763 [01:48<00:00, 44.06it/s]"
     ]
    },
    {
     "name": "stdout",
     "output_type": "stream",
     "text": [
      "Kinship sentences / All sentences:  0.273\n"
     ]
    },
    {
     "name": "stderr",
     "output_type": "stream",
     "text": [
      "\n"
     ]
    }
   ],
   "source": [
    "# Seperate sentences and retain sentences with kinship words.\n",
    "all_sent_count=0\n",
    "kin_sent_count=0\n",
    "df_qsw_refined=pd.DataFrame()\n",
    "for index in tqdm(df_qsw_raw.index):\n",
    "    content=df_qsw_raw.loc[index]['content']\n",
    "    sent_list=sep_mark_sent(content) # Seperate sentences.\n",
    "    all_sent_count+=len(sent_list)\n",
    "    subject=df_qsw_raw.loc[index]['subject']\n",
    "    author=df_qsw_raw.loc[index]['author']\n",
    "    kin_sent_list=[]\n",
    "    content_id=index\n",
    "    # Retain sentences with kinship information.\n",
    "    for sent in sent_list:\n",
    "        # Remove all kin_mismatch words first.\n",
    "        sent_temp=sent\n",
    "        for kin_mismatch in df_kin_mismatch['name']:\n",
    "            sent_temp=sent_temp.replace(kin_mismatch, '')\n",
    "        # See if kin_nm still in sentence.\n",
    "        kin_nm_list=[]\n",
    "        for kin_nm in df_nk['name']:\n",
    "            if kin_nm in sent_temp:\n",
    "                kin_nm_list.append(kin_nm)\n",
    "        if kin_nm_list!=[]:\n",
    "            kin_sent_list.append(sent)\n",
    "    kin_sent_count+=len(kin_sent_list)\n",
    "    df_qsw_refined=pd.concat([pd.DataFrame(data=[[content_id, subject, author, sent, content] for sent in kin_sent_list],\n",
    "                                          columns=['content_id', 'subject', 'author', 'sent', 'content']\n",
    "                                          ), df_qsw_refined], axis=0, ignore_index=True\n",
    "                            )\n",
    "print('Kinship sentences / All sentences: ', round(float(kin_sent_count)/all_sent_count, 3))\n",
    "# Run on entire corpus, 21.2%."
   ]
  },
  {
   "cell_type": "code",
   "execution_count": 12,
   "metadata": {},
   "outputs": [
    {
     "data": {
      "text/plain": [
       "['君諱某，字某。其先始平人，在僖宗朝，有官於蜀者。廣明之亂，唐統紊裂，視世濁溺，留避於此。子孫蕃衍，有居於普者。五世祖紹卿，於五代時，以宗族門地雄於一州；高祖諱光偉，佐東川節度；曾祖諱嶠，祖諱元晏，并潛隱不仕。父諱某，少舉進士，以苦學被病，遂不顧舊業，專治養生之術。作詩百章道其事，自號丹珠子。年過八十，無疾而終。子三人，君其長也。君生而穎慧，不憙他技。未冠，求師於成都。是時，任玠溫如、李畋渭卿，皆以道義文章教授諸生，君執業門下，并爲其高第。歸，將試藝於其郡廷，以干薦書，而豪士惡子競以財賂占壓，寒素不得一步進於其下。乃退而嘆曰：‘是等也，我安能與之以力相較耶?’於是收歛退縮，芟去仕意，僻居靜處，討究群策。經深史隱，鉤擿藏詣；馳詞吐論，坐者常屈。閭里訟訴，槩先詣君所平決，以至不復更由官治，而兩講解矣。教諸子事業，悉有端次。慶曆中，其子、今中都外郎如晦，用其法一舉中進士。君曰：‘是吾門戶之大望，自此子爾。’嘉祐初，以子官授大理評事致仕，三遷爲秘書丞，賜緋衣銀魚。嘗即其居，盛創亭宇，榜之曰‘榮恩’；自作記，道其所以獲當世爲人之甚幸者。鄉人景慕之。治平二年春，中都爲晉原宰，君以雙輿就其養。晉原之治，高出一道，君實有所誨助。間則吟詩飲酒，日日不倦。一旦，召中都語之，曰：‘官居之樂，誠樂矣!然而吾之舊廬，近常往來於吾懷也。汝當具吾歸裝，宜無吾留。’十月，促就道，中都遂假檄侍還其家。既至，亟遣去，曰：‘汝速往，無以吾累汝；汝當憂民，慎毋吾憂也。’自是，日召鄉里故舊聚飲，歡嘑歗歌，愈益精健。諸子立左右，忽顧之，曰：‘父母之年，古人謂可以喜懼者，汝等當知之。吾受祿養幾二紀，名復掛朝籍，人能如吾者幾何?此可喜也。然吾春秋已高，汝能無所懼乎?’家人聞之，錯遌皇惑，問：‘何以及此?體中有覺不如平時者何所?’但俛首嘻笑，不答。又數日，食飲漸不進，求就枕，瞑目良久。以纊候其氣，已不屬矣，遂終焉，十一月十二日也。享年七十五。夫人趙氏，同郡之甲族，婉懿有善譽，宗黨模其閨法，四封爲壽光縣君。生男六人，三早夭；次，中都也；次，處晦、用晦，并舉進士，有文行聞其朋流。女五人：適昌元解惟正，都官員外郎景思問，郡人周著，進士景思永。歸思問者，先卒；後繼之以其娣，封永壽縣君。孫男十人，某某，皆嚮習文藝。孫女九人。其一始嫁河南趙仲遘〔一〕。其孤將以三年二月某日，葬君於樂至縣普安鄉之西山，從先塋也。中都與同有場屋之舊，走僕詣同，求銘其墓，爲之銘。銘曰：孰不種善，君穫其多。奄然而歸，所少謂何。子官曰榮，學者愈侈。君所常望，久焉益偉。人生世中，起跌百端。如君初終，十八尤完。老安先廬，沒集舊兆。更萬千年，銘永其詔。《丹淵集》卷三九。〔一〕一：原作‘十’，據庫本改。']"
      ]
     },
     "execution_count": 12,
     "metadata": {},
     "output_type": "execute_result"
    }
   ],
   "source": [
    "[s for s in df_qsw_raw['content'] if '祖諱元晏' in s]"
   ]
  },
  {
   "cell_type": "code",
   "execution_count": 13,
   "metadata": {},
   "outputs": [
    {
     "data": {
      "text/html": [
       "<div>\n",
       "<style scoped>\n",
       "    .dataframe tbody tr th:only-of-type {\n",
       "        vertical-align: middle;\n",
       "    }\n",
       "\n",
       "    .dataframe tbody tr th {\n",
       "        vertical-align: top;\n",
       "    }\n",
       "\n",
       "    .dataframe thead th {\n",
       "        text-align: right;\n",
       "    }\n",
       "</style>\n",
       "<table border=\"1\" class=\"dataframe\">\n",
       "  <thead>\n",
       "    <tr style=\"text-align: right;\">\n",
       "      <th></th>\n",
       "      <th>content_id</th>\n",
       "      <th>subject</th>\n",
       "      <th>author</th>\n",
       "      <th>sent</th>\n",
       "      <th>content</th>\n",
       "    </tr>\n",
       "  </thead>\n",
       "  <tbody>\n",
       "    <tr>\n",
       "      <th>3735</th>\n",
       "      <td>5888776.0</td>\n",
       "      <td>孟珙</td>\n",
       "      <td>劉克莊</td>\n",
       "      <td>配定襄郡夫人彭氏</td>\n",
       "      <td>孟氏之先自絳徙唐，後徙隨之棗陽〔一〕。公諱珙，字璞玉。高大父安，嘗從岳王飛軍。曾大父立，累贈...</td>\n",
       "    </tr>\n",
       "    <tr>\n",
       "      <th>29715</th>\n",
       "      <td>5764807.0</td>\n",
       "      <td>丁世雄妻</td>\n",
       "      <td>葉適</td>\n",
       "      <td>初/wsep/少雲外豪華/wsep/中易直/wsep/價傾一縣/wsep/客自天台鴈蕩者多歸...</td>\n",
       "      <td>夫人戴氏，黄巖人，嫁同縣丁世雄。年四十七，慶元六年二月二十五日卒。十二月二十一日，葬從其夫。...</td>\n",
       "    </tr>\n",
       "    <tr>\n",
       "      <th>55864</th>\n",
       "      <td>5234528.0</td>\n",
       "      <td>趙仲韠</td>\n",
       "      <td>范祖禹</td>\n",
       "      <td>曾孫女一人/wsep/皆幼</td>\n",
       "      <td>侯諱仲韠，字子儀，魏恭憲王元佐之曾孫，密國公允信之孫，祁國公宗説之子。母張氏，封清河縣君。初...</td>\n",
       "    </tr>\n",
       "    <tr>\n",
       "      <th>36267</th>\n",
       "      <td>5655071.0</td>\n",
       "      <td>俞贇</td>\n",
       "      <td>石[CFont]NFDC8[/CFont]</td>\n",
       "      <td>娶同郡趙氏/wsep/先公十七年卒/wsep/生男二人/wm/長宗直/wsep/卒於淳熙庚子...</td>\n",
       "      <td>公諱贇，字公憲，俞氏。九世祖避地于台之寧海，因家焉。曾大父仲、大父璋、父璉，皆晦迹不耀。公幼...</td>\n",
       "    </tr>\n",
       "    <tr>\n",
       "      <th>42585</th>\n",
       "      <td>5503452.0</td>\n",
       "      <td>王序</td>\n",
       "      <td>朱承</td>\n",
       "      <td>男三/wm/長卿孫/wsep/右宣義郎/wsep/陝西路鑄錢公司幹辦公事</td>\n",
       "      <td>公諱序，字商彦，姓王氏。其先京兆人，六世祖知珏，唐廣明時差知榮州和義縣，因家焉。孫藴舒沈勇有...</td>\n",
       "    </tr>\n",
       "  </tbody>\n",
       "</table>\n",
       "</div>"
      ],
      "text/plain": [
       "       content_id subject                 author  \\\n",
       "3735    5888776.0      孟珙                    劉克莊   \n",
       "29715   5764807.0    丁世雄妻                     葉適   \n",
       "55864   5234528.0     趙仲韠                    范祖禹   \n",
       "36267   5655071.0      俞贇  石[CFont]NFDC8[/CFont]   \n",
       "42585   5503452.0      王序                     朱承   \n",
       "\n",
       "                                                    sent  \\\n",
       "3735                                            配定襄郡夫人彭氏   \n",
       "29715  初/wsep/少雲外豪華/wsep/中易直/wsep/價傾一縣/wsep/客自天台鴈蕩者多歸...   \n",
       "55864                                      曾孫女一人/wsep/皆幼   \n",
       "36267  娶同郡趙氏/wsep/先公十七年卒/wsep/生男二人/wm/長宗直/wsep/卒於淳熙庚子...   \n",
       "42585               男三/wm/長卿孫/wsep/右宣義郎/wsep/陝西路鑄錢公司幹辦公事   \n",
       "\n",
       "                                                 content  \n",
       "3735   孟氏之先自絳徙唐，後徙隨之棗陽〔一〕。公諱珙，字璞玉。高大父安，嘗從岳王飛軍。曾大父立，累贈...  \n",
       "29715  夫人戴氏，黄巖人，嫁同縣丁世雄。年四十七，慶元六年二月二十五日卒。十二月二十一日，葬從其夫。...  \n",
       "55864  侯諱仲韠，字子儀，魏恭憲王元佐之曾孫，密國公允信之孫，祁國公宗説之子。母張氏，封清河縣君。初...  \n",
       "36267  公諱贇，字公憲，俞氏。九世祖避地于台之寧海，因家焉。曾大父仲、大父璋、父璉，皆晦迹不耀。公幼...  \n",
       "42585  公諱序，字商彦，姓王氏。其先京兆人，六世祖知珏，唐廣明時差知榮州和義縣，因家焉。孫藴舒沈勇有...  "
      ]
     },
     "execution_count": 13,
     "metadata": {},
     "output_type": "execute_result"
    }
   ],
   "source": [
    "df_qsw_refined.sample(5)"
   ]
  },
  {
   "cell_type": "code",
   "execution_count": 14,
   "metadata": {},
   "outputs": [
    {
     "name": "stderr",
     "output_type": "stream",
     "text": [
      "100%|██████████| 70915/70915 [00:01<00:00, 42883.79it/s]\n",
      "100%|██████████| 70915/70915 [00:01<00:00, 43366.37it/s]\n"
     ]
    },
    {
     "data": {
      "text/plain": [
       "13495"
      ]
     },
     "execution_count": 14,
     "metadata": {},
     "output_type": "execute_result"
    }
   ],
   "source": [
    "drop_index_list=[]\n",
    "for index in tqdm(df_qsw_refined.index):\n",
    "    sent=df_qsw_refined.loc[index, 'sent']\n",
    "    if ('娶' in sent or '取' in sent or '配' in sent) and ('夫人' not in sent and '氏' not in sent):\n",
    "        drop_index_list.append(index)\n",
    "for index in tqdm(df_qsw_refined.index):\n",
    "    sent=df_qsw_refined.loc[index, 'sent']\n",
    "    if ('歸' in sent or '嫁' in sent or '適' in sent or '許' in sent) and ('女' not in sent and '妹' not in sent and '姑' not in sent and '夫人' not in sent and '姊' not in sent):\n",
    "        drop_index_list.append(index)\n",
    "        \n",
    "df_qsw_refined=df_qsw_refined.drop(drop_index_list)\n",
    "len(drop_index_list)"
   ]
  },
  {
   "cell_type": "markdown",
   "metadata": {},
   "source": [
    "#### Subtracting information by order."
   ]
  },
  {
   "cell_type": "code",
   "execution_count": 15,
   "metadata": {},
   "outputs": [
    {
     "name": "stderr",
     "output_type": "stream",
     "text": [
      "100%|██████████| 57733/57733 [09:46<00:00, 98.43it/s]\n"
     ]
    }
   ],
   "source": [
    "# First, subtract 固定称呼 (POS: nz).\n",
    "for index in tqdm(df_qsw_refined.index):\n",
    "    sent=df_qsw_refined.loc[index]['sent']\n",
    "    nz_list=[]\n",
    "    for nz in df_nz['name']:\n",
    "        if nz in sent:\n",
    "            nz_list+=re.findall(nz, sent)\n",
    "            sent=sent.replace(nz, '/nz/')\n",
    "    df_qsw_refined.loc[index, 'sent_comp']=sent\n",
    "    df_qsw_refined.loc[index, 'nz']='#'.join(nz_list)"
   ]
  },
  {
   "cell_type": "code",
   "execution_count": 16,
   "metadata": {},
   "outputs": [
    {
     "name": "stderr",
     "output_type": "stream",
     "text": [
      "100%|██████████| 57733/57733 [11:45<00:00, 81.88it/s]\n"
     ]
    }
   ],
   "source": [
    "# Second, subtract place names (POS:ns).\n",
    "for index in tqdm(df_qsw_refined.index):\n",
    "    sent=df_qsw_refined.loc[index]['sent_comp']\n",
    "    ns_list=[]\n",
    "    for ns in df_ns['name']:\n",
    "        if ns in sent:\n",
    "            ns_list+=re.findall(ns, sent)\n",
    "            sent=sent.replace(ns, '/ns/')\n",
    "    df_qsw_refined.loc[index, 'sent_comp']=sent\n",
    "    df_qsw_refined.loc[index, 'ns']='#'.join(ns_list)"
   ]
  },
  {
   "cell_type": "code",
   "execution_count": 17,
   "metadata": {},
   "outputs": [
    {
     "name": "stderr",
     "output_type": "stream",
     "text": [
      "100%|██████████| 57733/57733 [13:57<00:00, 68.91it/s]\n"
     ]
    }
   ],
   "source": [
    "# Third, subtract office title (POS:no_noc).\n",
    "for index in tqdm(df_qsw_refined.index):\n",
    "    sent=df_qsw_refined.loc[index]['sent_comp']\n",
    "    no_noc_list=[]\n",
    "    for no_noc in df_no_noc['name']:\n",
    "        if no_noc in sent:\n",
    "            no_noc_list+=re.findall(no_noc, sent)\n",
    "            sent=sent.replace(no_noc, '/no_noc/')\n",
    "    df_qsw_refined.loc[index, 'sent_comp']=sent\n",
    "    df_qsw_refined.loc[index, 'no_noc']='#'.join(no_noc_list)"
   ]
  },
  {
   "cell_type": "code",
   "execution_count": 18,
   "metadata": {},
   "outputs": [
    {
     "data": {
      "text/html": [
       "<div>\n",
       "<style scoped>\n",
       "    .dataframe tbody tr th:only-of-type {\n",
       "        vertical-align: middle;\n",
       "    }\n",
       "\n",
       "    .dataframe tbody tr th {\n",
       "        vertical-align: top;\n",
       "    }\n",
       "\n",
       "    .dataframe thead th {\n",
       "        text-align: right;\n",
       "    }\n",
       "</style>\n",
       "<table border=\"1\" class=\"dataframe\">\n",
       "  <thead>\n",
       "    <tr style=\"text-align: right;\">\n",
       "      <th></th>\n",
       "      <th>content_id</th>\n",
       "      <th>subject</th>\n",
       "      <th>author</th>\n",
       "      <th>sent</th>\n",
       "      <th>content</th>\n",
       "      <th>sent_comp</th>\n",
       "      <th>nz</th>\n",
       "      <th>ns</th>\n",
       "      <th>no_noc</th>\n",
       "    </tr>\n",
       "  </thead>\n",
       "  <tbody>\n",
       "    <tr>\n",
       "      <th>33665</th>\n",
       "      <td>5713832.0</td>\n",
       "      <td>樓鐊</td>\n",
       "      <td>樓鑰</td>\n",
       "      <td>使假之年/wsep/其自見于世者何止此而已耶!嫂陳氏/wsep/家番昜</td>\n",
       "      <td>先光禄有十丈夫子，惟伯兄績谿尉生于紹興二年，仲兄嚴州生于四年，至七年而鑰始生。二兄愛鑰厚，期...</td>\n",
       "      <td>使假之年/wsep/其自見于世者何止此而已耶!嫂陳氏/wsep/家番昜</td>\n",
       "      <td></td>\n",
       "      <td></td>\n",
       "      <td></td>\n",
       "    </tr>\n",
       "    <tr>\n",
       "      <th>52816</th>\n",
       "      <td>5267842.0</td>\n",
       "      <td>孫覽</td>\n",
       "      <td>畢仲游</td>\n",
       "      <td>天下稱賢弟兄者/wsep/必曰莘老/wsep/傳師焉</td>\n",
       "      <td>故朝請大夫、寶文閣待制、提舉江寧府崇禧觀、上柱國、華亭縣開國伯、食邑七百户、賜紫金魚袋孫公，...</td>\n",
       "      <td>天下稱賢弟兄者/wsep/必曰莘老/wsep/傳師焉</td>\n",
       "      <td></td>\n",
       "      <td></td>\n",
       "      <td></td>\n",
       "    </tr>\n",
       "    <tr>\n",
       "      <th>28059</th>\n",
       "      <td>5784055.0</td>\n",
       "      <td>吳柔勝</td>\n",
       "      <td>曹彦約</td>\n",
       "      <td>勝之諱柔勝/wsep/家本姑蘇/wsep/八世祖徙宣城/wsep/以儒爲業</td>\n",
       "      <td>勝之修撰葬有日，墓當立碑，真希元直院已諾執筆，柴與之秘監又狀其事矣。二公號大手筆，一代端慤不...</td>\n",
       "      <td>勝之諱柔勝/wsep/家本姑蘇/wsep/八世祖徙/ns//wsep/以儒爲業</td>\n",
       "      <td></td>\n",
       "      <td>宣城</td>\n",
       "      <td></td>\n",
       "    </tr>\n",
       "  </tbody>\n",
       "</table>\n",
       "</div>"
      ],
      "text/plain": [
       "       content_id subject author                                   sent  \\\n",
       "33665   5713832.0      樓鐊     樓鑰    使假之年/wsep/其自見于世者何止此而已耶!嫂陳氏/wsep/家番昜   \n",
       "52816   5267842.0      孫覽    畢仲游             天下稱賢弟兄者/wsep/必曰莘老/wsep/傳師焉   \n",
       "28059   5784055.0     吳柔勝    曹彦約  勝之諱柔勝/wsep/家本姑蘇/wsep/八世祖徙宣城/wsep/以儒爲業   \n",
       "\n",
       "                                                 content  \\\n",
       "33665  先光禄有十丈夫子，惟伯兄績谿尉生于紹興二年，仲兄嚴州生于四年，至七年而鑰始生。二兄愛鑰厚，期...   \n",
       "52816  故朝請大夫、寶文閣待制、提舉江寧府崇禧觀、上柱國、華亭縣開國伯、食邑七百户、賜紫金魚袋孫公，...   \n",
       "28059  勝之修撰葬有日，墓當立碑，真希元直院已諾執筆，柴與之秘監又狀其事矣。二公號大手筆，一代端慤不...   \n",
       "\n",
       "                                     sent_comp nz  ns no_noc  \n",
       "33665      使假之年/wsep/其自見于世者何止此而已耶!嫂陳氏/wsep/家番昜                \n",
       "52816               天下稱賢弟兄者/wsep/必曰莘老/wsep/傳師焉                \n",
       "28059  勝之諱柔勝/wsep/家本姑蘇/wsep/八世祖徙/ns//wsep/以儒爲業     宣城         "
      ]
     },
     "execution_count": 18,
     "metadata": {},
     "output_type": "execute_result"
    }
   ],
   "source": [
    "df_qsw_refined.sample(3)"
   ]
  },
  {
   "cell_type": "code",
   "execution_count": 19,
   "metadata": {},
   "outputs": [],
   "source": [
    "def vno_mark(vno, sent):\n",
    "    vno_re=re.compile(vno+'/no_noc/|'+vno+'/ns/')\n",
    "    vno_list_temp=re.findall(vno_re, sent)\n",
    "    if vno_list_temp!=[]:\n",
    "        sent_comp_temp=sent.replace(vno+'/no_noc/', '/vno//no_noc/')\n",
    "        sent_comp_temp=sent_comp_temp.replace(vno+'/ns/', '/vno//ns/')\n",
    "        return {'sent_comp':sent_comp_temp, \n",
    "                'vno_list':[s.strip('/no_noc/').strip('/ns/') for s in vno_list_temp]}\n",
    "    else:\n",
    "        return None"
   ]
  },
  {
   "cell_type": "code",
   "execution_count": 20,
   "metadata": {},
   "outputs": [],
   "source": [
    "# Subtract appointing verb (POS:vno).\n",
    "for index in df_qsw_refined.index:\n",
    "    sent=df_qsw_refined.loc[index]['sent_comp']\n",
    "    vno_list=[]\n",
    "    for vno in df_vno['name']:\n",
    "        tag_result=vno_mark(vno, sent)\n",
    "        if tag_result!=None:\n",
    "            sent=tag_result['sent_comp']\n",
    "            vno_list+=tag_result['vno_list']\n",
    "    df_qsw_refined.loc[index, 'sent_comp']=sent\n",
    "    df_qsw_refined.loc[index, 'vno']='#'.join(vno_list)"
   ]
  },
  {
   "cell_type": "code",
   "execution_count": 21,
   "metadata": {},
   "outputs": [
    {
     "data": {
      "text/html": [
       "<div>\n",
       "<style scoped>\n",
       "    .dataframe tbody tr th:only-of-type {\n",
       "        vertical-align: middle;\n",
       "    }\n",
       "\n",
       "    .dataframe tbody tr th {\n",
       "        vertical-align: top;\n",
       "    }\n",
       "\n",
       "    .dataframe thead th {\n",
       "        text-align: right;\n",
       "    }\n",
       "</style>\n",
       "<table border=\"1\" class=\"dataframe\">\n",
       "  <thead>\n",
       "    <tr style=\"text-align: right;\">\n",
       "      <th></th>\n",
       "      <th>content_id</th>\n",
       "      <th>subject</th>\n",
       "      <th>author</th>\n",
       "      <th>sent</th>\n",
       "      <th>content</th>\n",
       "      <th>sent_comp</th>\n",
       "      <th>nz</th>\n",
       "      <th>ns</th>\n",
       "      <th>no_noc</th>\n",
       "      <th>vno</th>\n",
       "    </tr>\n",
       "  </thead>\n",
       "  <tbody>\n",
       "    <tr>\n",
       "      <th>33449</th>\n",
       "      <td>5713694.0</td>\n",
       "      <td>趙師龍</td>\n",
       "      <td>樓鑰</td>\n",
       "      <td>進止詳華/wsep/占對明辯/wsep/壽皇嘉納/wsep/且曰/wm/‘秀王之孫與卿同名/...</td>\n",
       "      <td>公諱師龍，字舜臣，太祖皇帝九世孫。曾大父令蘧，邕州管内觀察使，累贈少師，追封昌國公，謚孝良。...</td>\n",
       "      <td>進止詳華/wsep/占對明辯/wsep/壽皇嘉納/wsep/且曰/wm/‘秀王之孫與卿同名/...</td>\n",
       "      <td></td>\n",
       "      <td></td>\n",
       "      <td></td>\n",
       "      <td></td>\n",
       "    </tr>\n",
       "    <tr>\n",
       "      <th>36166</th>\n",
       "      <td>5657905.0</td>\n",
       "      <td>吴之才妻</td>\n",
       "      <td>趙善括</td>\n",
       "      <td>南昌吴隱君之才之夫人萬氏/wsep/少而賢/wsep/爲婦有孝聲</td>\n",
       "      <td>夷考今昔，爲人婦者，咸知愛己之親，鮮有事人之親，能極其愛，情固然爾。縱强能之，率容敬心悖，始...</td>\n",
       "      <td>/ns/吴隱君之才之夫人萬氏/wsep/少而賢/wsep/爲婦有孝聲</td>\n",
       "      <td></td>\n",
       "      <td>南昌</td>\n",
       "      <td></td>\n",
       "      <td></td>\n",
       "    </tr>\n",
       "    <tr>\n",
       "      <th>22595</th>\n",
       "      <td>5888906.0</td>\n",
       "      <td>陳垣妻</td>\n",
       "      <td>劉克莊</td>\n",
       "      <td>女五人/wsep/長適文林郎/wsep/潮州録事參軍趙汝腴/wsep/次適修職郎/wsep/...</td>\n",
       "      <td>故海陽陳令君諱垣之配孺人鄭氏，以紹定元年二月六日卒，年五十一。明年三月丁酉，合葬於令君之墓。...</td>\n",
       "      <td>女五人/wsep/長適/no_noc//wsep//ns//no_noc//no_noc/趙...</td>\n",
       "      <td></td>\n",
       "      <td>臨安府#潮州</td>\n",
       "      <td>文林郎#修職郎#參軍#録事</td>\n",
       "      <td></td>\n",
       "    </tr>\n",
       "    <tr>\n",
       "      <th>20359</th>\n",
       "      <td>5895930.0</td>\n",
       "      <td>徐桂</td>\n",
       "      <td>徐經孫</td>\n",
       "      <td>余叔父金陵法曹爲之記/wsep/故識與不識/wsep/皆號曰内省居士</td>\n",
       "      <td>族伯父内省居士徐公，諱桂，字億年，居豫章豐城之覺溪，其先則撫之宜黄人也。曾祖諱端仁，祖諱邦義...</td>\n",
       "      <td>余叔父金陵/no_noc/爲之記/wsep/故識與不識/wsep/皆號曰内省居士</td>\n",
       "      <td></td>\n",
       "      <td></td>\n",
       "      <td>法曹</td>\n",
       "      <td></td>\n",
       "    </tr>\n",
       "    <tr>\n",
       "      <th>40297</th>\n",
       "      <td>5583171.0</td>\n",
       "      <td>允中</td>\n",
       "      <td>韓元吉</td>\n",
       "      <td>公諱允中/wsep/字子忱/wsep/登政和五年進士第/wsep/積官至左通議大夫/wsep...</td>\n",
       "      <td>上即位之二年，詔資政殿大學士賀公落致仕，提舉萬壽觀，兼侍讀。上親御翰墨，累數十語，其略曰：‘...</td>\n",
       "      <td>公諱允中/wsep/字子忱/wsep/登/ns/五年/no_noc/第/wsep/積官至/n...</td>\n",
       "      <td></td>\n",
       "      <td>會稽郡#政和</td>\n",
       "      <td>左通議大夫#開國公#食邑#進士#爵</td>\n",
       "      <td></td>\n",
       "    </tr>\n",
       "  </tbody>\n",
       "</table>\n",
       "</div>"
      ],
      "text/plain": [
       "       content_id subject author  \\\n",
       "33449   5713694.0     趙師龍     樓鑰   \n",
       "36166   5657905.0    吴之才妻    趙善括   \n",
       "22595   5888906.0     陳垣妻    劉克莊   \n",
       "20359   5895930.0      徐桂    徐經孫   \n",
       "40297   5583171.0      允中    韓元吉   \n",
       "\n",
       "                                                    sent  \\\n",
       "33449  進止詳華/wsep/占對明辯/wsep/壽皇嘉納/wsep/且曰/wm/‘秀王之孫與卿同名/...   \n",
       "36166                   南昌吴隱君之才之夫人萬氏/wsep/少而賢/wsep/爲婦有孝聲   \n",
       "22595  女五人/wsep/長適文林郎/wsep/潮州録事參軍趙汝腴/wsep/次適修職郎/wsep/...   \n",
       "20359                 余叔父金陵法曹爲之記/wsep/故識與不識/wsep/皆號曰内省居士   \n",
       "40297  公諱允中/wsep/字子忱/wsep/登政和五年進士第/wsep/積官至左通議大夫/wsep...   \n",
       "\n",
       "                                                 content  \\\n",
       "33449  公諱師龍，字舜臣，太祖皇帝九世孫。曾大父令蘧，邕州管内觀察使，累贈少師，追封昌國公，謚孝良。...   \n",
       "36166  夷考今昔，爲人婦者，咸知愛己之親，鮮有事人之親，能極其愛，情固然爾。縱强能之，率容敬心悖，始...   \n",
       "22595  故海陽陳令君諱垣之配孺人鄭氏，以紹定元年二月六日卒，年五十一。明年三月丁酉，合葬於令君之墓。...   \n",
       "20359  族伯父内省居士徐公，諱桂，字億年，居豫章豐城之覺溪，其先則撫之宜黄人也。曾祖諱端仁，祖諱邦義...   \n",
       "40297  上即位之二年，詔資政殿大學士賀公落致仕，提舉萬壽觀，兼侍讀。上親御翰墨，累數十語，其略曰：‘...   \n",
       "\n",
       "                                               sent_comp nz      ns  \\\n",
       "33449  進止詳華/wsep/占對明辯/wsep/壽皇嘉納/wsep/且曰/wm/‘秀王之孫與卿同名/...              \n",
       "36166                 /ns/吴隱君之才之夫人萬氏/wsep/少而賢/wsep/爲婦有孝聲         南昌   \n",
       "22595  女五人/wsep/長適/no_noc//wsep//ns//no_noc//no_noc/趙...     臨安府#潮州   \n",
       "20359           余叔父金陵/no_noc/爲之記/wsep/故識與不識/wsep/皆號曰内省居士              \n",
       "40297  公諱允中/wsep/字子忱/wsep/登/ns/五年/no_noc/第/wsep/積官至/n...     會稽郡#政和   \n",
       "\n",
       "                  no_noc vno  \n",
       "33449                         \n",
       "36166                         \n",
       "22595      文林郎#修職郎#參軍#録事      \n",
       "20359                 法曹      \n",
       "40297  左通議大夫#開國公#食邑#進士#爵      "
      ]
     },
     "execution_count": 21,
     "metadata": {},
     "output_type": "execute_result"
    }
   ],
   "source": [
    "df_qsw_refined.fillna('', inplace=True)\n",
    "df_qsw_refined.sample(5)"
   ]
  },
  {
   "cell_type": "code",
   "execution_count": 22,
   "metadata": {},
   "outputs": [],
   "source": [
    "df_qsw_refined.to_excel('../output/qsw_subtract.xlsx', encoding='utf8')"
   ]
  },
  {
   "cell_type": "code",
   "execution_count": null,
   "metadata": {},
   "outputs": [],
   "source": []
  }
 ],
 "metadata": {
  "kernelspec": {
   "display_name": "Python 3",
   "language": "python",
   "name": "python3"
  },
  "language_info": {
   "codemirror_mode": {
    "name": "ipython",
    "version": 3
   },
   "file_extension": ".py",
   "mimetype": "text/x-python",
   "name": "python",
   "nbconvert_exporter": "python",
   "pygments_lexer": "ipython3",
   "version": "3.6.4"
  }
 },
 "nbformat": 4,
 "nbformat_minor": 2
}
