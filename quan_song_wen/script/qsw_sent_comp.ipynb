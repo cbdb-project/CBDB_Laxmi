{
 "cells": [
  {
   "cell_type": "markdown",
   "metadata": {},
   "source": [
    "### Workflow: Extracting information by subtracting.\n",
    "\n",
    "1. First, we need to decrease the \"noise\" as much as possible.\n",
    "    - Cut content into sentences.\n",
    "    - Mark sentences with kinship dictionary.\n",
    "    - drop sentences without kinship words.\n",
    "2. Sentence compression.\n",
    "    - Some sentences have office title or place name before person name.\n",
    "    - Extract office titles (marked as `\"/no_noc/\"`) and places (marked as `\"/ns/\"`) to seperate columns.\n",
    "    - Compress/subtract the sentences to only include kinship titles and person names.\n",
    "3. Kinship information extraction.\n",
    "    - Run regular expressions on compressed sentences.\n",
    "    \n",
    "#### Problems and TODOs:\n",
    "- [X] - \"Include code IDs\": \n",
    "    - Not for the relationship extraction step, since there may be duplicates of office titles/place names, complicate current tasks.\n",
    "    - Therefore, no need to put the IDs in dictionaries.\n",
    "- [X] - Words to be tagged:\n",
    "    - Office title and place names used in Song dynasty.\n",
    "    - Office titles and kinship names are overlapped, e.g., 子, 伯: Should be solved by using refined titles.\n",
    "- [X] - Order effect:\n",
    "    - e.g., 昭武軍節度，if meet 節度 first, will be 昭武軍/no/ after subtraction.\n",
    "    - Solution: order the dictionary by length of characters, therefore, 昭武軍節度 will be matched first.\n",
    "- [X] - Tagging more words:\n",
    "    - [x] Update dictionaries (`no_noc`, `nk`, `vno`).\n",
    "    - [x] Tag exact positions instead of combining, e.g.:\n",
    "        - sent_comp: 解州解/no_noc//wsep/累贈/no_noc/諱禹偁/wsep/追封彭城/no_noc/徐氏/wsep/廣陵/no_noc/王氏/wsep/睢陽/no_noc/宋氏/wsep/祖考妣也\n",
    "        - no_noc: 禮部尚書#郡太君#郡太君#郡太君#縣令\n",
    "    - [x] Appointment verbs (`APPOINTMENT_TYPE_CODES`).\n",
    "    - Entry data (`ENTRY_CODES`).\n"
   ]
  },
  {
   "cell_type": "code",
   "execution_count": 1,
   "metadata": {},
   "outputs": [],
   "source": [
    "import pandas as pd\n",
    "import re\n",
    "from tqdm import tqdm\n",
    "import math"
   ]
  },
  {
   "cell_type": "markdown",
   "metadata": {},
   "source": [
    "### Prepare dictionaries."
   ]
  },
  {
   "cell_type": "code",
   "execution_count": 2,
   "metadata": {},
   "outputs": [
    {
     "data": {
      "text/html": [
       "<div>\n",
       "<style scoped>\n",
       "    .dataframe tbody tr th:only-of-type {\n",
       "        vertical-align: middle;\n",
       "    }\n",
       "\n",
       "    .dataframe tbody tr th {\n",
       "        vertical-align: top;\n",
       "    }\n",
       "\n",
       "    .dataframe thead th {\n",
       "        text-align: right;\n",
       "    }\n",
       "</style>\n",
       "<table border=\"1\" class=\"dataframe\">\n",
       "  <thead>\n",
       "    <tr style=\"text-align: right;\">\n",
       "      <th></th>\n",
       "      <th>name</th>\n",
       "      <th>关系说明</th>\n",
       "      <th>亲属编码</th>\n",
       "      <th>pos</th>\n",
       "    </tr>\n",
       "  </thead>\n",
       "  <tbody>\n",
       "    <tr>\n",
       "      <th>18</th>\n",
       "      <td>五世祖</td>\n",
       "      <td>G-5</td>\n",
       "      <td>397</td>\n",
       "      <td>nk</td>\n",
       "    </tr>\n",
       "    <tr>\n",
       "      <th>29</th>\n",
       "      <td>曾王父</td>\n",
       "      <td>FFF</td>\n",
       "      <td>48</td>\n",
       "      <td>nk</td>\n",
       "    </tr>\n",
       "    <tr>\n",
       "      <th>155</th>\n",
       "      <td>侄</td>\n",
       "      <td>BS</td>\n",
       "      <td>177</td>\n",
       "      <td>nk</td>\n",
       "    </tr>\n",
       "  </tbody>\n",
       "</table>\n",
       "</div>"
      ],
      "text/plain": [
       "    name 关系说明 亲属编码 pos\n",
       "18   五世祖  G-5  397  nk\n",
       "29   曾王父  FFF   48  nk\n",
       "155    侄   BS  177  nk"
      ]
     },
     "execution_count": 2,
     "metadata": {},
     "output_type": "execute_result"
    }
   ],
   "source": [
    "song_kin_title=pd.read_excel('../../../NLP/cn_corpus/data_raw/song_kinship_title.xlsx')\n",
    "song_kin_title.rename(columns={'名称':'name'}, inplace=True)\n",
    "song_kin_title['pos']='nk'\n",
    "song_kin_title.sample(3)"
   ]
  },
  {
   "cell_type": "code",
   "execution_count": 24,
   "metadata": {},
   "outputs": [
    {
     "data": {
      "text/html": [
       "<div>\n",
       "<style scoped>\n",
       "    .dataframe tbody tr th:only-of-type {\n",
       "        vertical-align: middle;\n",
       "    }\n",
       "\n",
       "    .dataframe tbody tr th {\n",
       "        vertical-align: top;\n",
       "    }\n",
       "\n",
       "    .dataframe thead th {\n",
       "        text-align: right;\n",
       "    }\n",
       "</style>\n",
       "<table border=\"1\" class=\"dataframe\">\n",
       "  <thead>\n",
       "    <tr style=\"text-align: right;\">\n",
       "      <th></th>\n",
       "      <th>c_appt_type_code</th>\n",
       "      <th>name</th>\n",
       "      <th>c_appt_type_desc</th>\n",
       "      <th>check</th>\n",
       "      <th>Unnamed: 4</th>\n",
       "      <th>Unnamed: 5</th>\n",
       "      <th>Unnamed: 6</th>\n",
       "      <th>pos</th>\n",
       "    </tr>\n",
       "  </thead>\n",
       "  <tbody>\n",
       "    <tr>\n",
       "      <th>42</th>\n",
       "      <td>49</td>\n",
       "      <td>特進</td>\n",
       "      <td>NaN</td>\n",
       "      <td>NaN</td>\n",
       "      <td>NaN</td>\n",
       "      <td>NaN</td>\n",
       "      <td>NaN</td>\n",
       "      <td>vno</td>\n",
       "    </tr>\n",
       "    <tr>\n",
       "      <th>94</th>\n",
       "      <td>104</td>\n",
       "      <td>舉</td>\n",
       "      <td>新增</td>\n",
       "      <td>NaN</td>\n",
       "      <td>NaN</td>\n",
       "      <td>NaN</td>\n",
       "      <td>舉進士</td>\n",
       "      <td>vno</td>\n",
       "    </tr>\n",
       "    <tr>\n",
       "      <th>29</th>\n",
       "      <td>36</td>\n",
       "      <td>兼</td>\n",
       "      <td>NaN</td>\n",
       "      <td>NaN</td>\n",
       "      <td>NaN</td>\n",
       "      <td>NaN</td>\n",
       "      <td>NaN</td>\n",
       "      <td>vno</td>\n",
       "    </tr>\n",
       "  </tbody>\n",
       "</table>\n",
       "</div>"
      ],
      "text/plain": [
       "    c_appt_type_code name c_appt_type_desc check Unnamed: 4  Unnamed: 5  \\\n",
       "42                49   特進              NaN   NaN        NaN         NaN   \n",
       "94               104    舉               新增   NaN        NaN         NaN   \n",
       "29                36    兼              NaN   NaN        NaN         NaN   \n",
       "\n",
       "   Unnamed: 6  pos  \n",
       "42        NaN  vno  \n",
       "94        舉進士  vno  \n",
       "29        NaN  vno  "
      ]
     },
     "execution_count": 24,
     "metadata": {},
     "output_type": "execute_result"
    }
   ],
   "source": [
    "song_appt_type=pd.read_excel('../../../NLP/cn_corpus/data_raw/song_appt_type.xlsx')\n",
    "song_appt_type.rename(columns={'c_appt_type_desc_chn':'name'}, inplace=True)\n",
    "song_appt_type['pos']='vno'\n",
    "song_appt_type.sample(3)"
   ]
  },
  {
   "cell_type": "code",
   "execution_count": 114,
   "metadata": {},
   "outputs": [],
   "source": [
    "song_appt_type[['name', 'pos']].to_csv('../../../NLP/cn_corpus/data_build/cn_traditional_jieba/song_vno_dict.csv', \n",
    "                                       index=False, sep='\\t')\n",
    "song_kin_title[['name', 'pos']].to_csv('../../../NLP/cn_corpus/data_build/cn_traditional_jieba/song_nk_dict.csv', \n",
    "                                       index=False, sep='\\t')"
   ]
  },
  {
   "cell_type": "markdown",
   "metadata": {},
   "source": [
    "### Sentence compression."
   ]
  },
  {
   "cell_type": "markdown",
   "metadata": {},
   "source": [
    "#### Select sentences with kinship information."
   ]
  },
  {
   "cell_type": "code",
   "execution_count": 2,
   "metadata": {},
   "outputs": [],
   "source": [
    "# Read kinship dictionary. nk = POS Kinship.\n",
    "df_nk=pd.read_csv('../data_dict/song_nk_dict.csv', sep='\\t', header=None).rename(columns={0:'name', 1:'pos'})\n",
    "# Read office title. no = office title. noc = office category.\n",
    "df_no_noc=pd.read_csv('../data_dict/song_no_noc_dict.csv', sep='\\t', header=None).rename(columns={0:'name', 1:'pos'})\n",
    "df_ns=pd.read_csv('../data_dict/song_ns_dict.csv', sep='\\t', header=None).rename(columns={0:'name', 1:'pos'})\n",
    "df_vno=pd.read_csv('../data_dict/song_vno_dict.csv', sep='\\t')\n",
    "df_nz=pd.read_csv('../data_dict/song_nz_dict.csv', sep='\\t', header=None).rename(columns={0:'name', 1:'pos'})\n",
    "df_kin_mismatch=pd.read_csv('../data_dict/kin_mismatch.csv', sep='\\t', header=None).rename(columns={0:'name'})"
   ]
  },
  {
   "cell_type": "code",
   "execution_count": 3,
   "metadata": {},
   "outputs": [
    {
     "data": {
      "text/html": [
       "<div>\n",
       "<style scoped>\n",
       "    .dataframe tbody tr th:only-of-type {\n",
       "        vertical-align: middle;\n",
       "    }\n",
       "\n",
       "    .dataframe tbody tr th {\n",
       "        vertical-align: top;\n",
       "    }\n",
       "\n",
       "    .dataframe thead th {\n",
       "        text-align: right;\n",
       "    }\n",
       "</style>\n",
       "<table border=\"1\" class=\"dataframe\">\n",
       "  <thead>\n",
       "    <tr style=\"text-align: right;\">\n",
       "      <th></th>\n",
       "      <th>name</th>\n",
       "      <th>pos</th>\n",
       "    </tr>\n",
       "  </thead>\n",
       "  <tbody>\n",
       "    <tr>\n",
       "      <th>156</th>\n",
       "      <td>第三任妻父</td>\n",
       "      <td>nk</td>\n",
       "    </tr>\n",
       "    <tr>\n",
       "      <th>688</th>\n",
       "      <td>仲子</td>\n",
       "      <td>nk</td>\n",
       "    </tr>\n",
       "    <tr>\n",
       "      <th>757</th>\n",
       "      <td>許嫁</td>\n",
       "      <td>nk</td>\n",
       "    </tr>\n",
       "  </tbody>\n",
       "</table>\n",
       "</div>"
      ],
      "text/plain": [
       "      name pos\n",
       "156  第三任妻父  nk\n",
       "688     仲子  nk\n",
       "757     許嫁  nk"
      ]
     },
     "execution_count": 3,
     "metadata": {},
     "output_type": "execute_result"
    }
   ],
   "source": [
    "df_nk.sample(3)"
   ]
  },
  {
   "cell_type": "code",
   "execution_count": 4,
   "metadata": {},
   "outputs": [
    {
     "data": {
      "text/html": [
       "<div>\n",
       "<style scoped>\n",
       "    .dataframe tbody tr th:only-of-type {\n",
       "        vertical-align: middle;\n",
       "    }\n",
       "\n",
       "    .dataframe tbody tr th {\n",
       "        vertical-align: top;\n",
       "    }\n",
       "\n",
       "    .dataframe thead th {\n",
       "        text-align: right;\n",
       "    }\n",
       "</style>\n",
       "<table border=\"1\" class=\"dataframe\">\n",
       "  <thead>\n",
       "    <tr style=\"text-align: right;\">\n",
       "      <th></th>\n",
       "      <th>name</th>\n",
       "    </tr>\n",
       "  </thead>\n",
       "  <tbody>\n",
       "    <tr>\n",
       "      <th>6</th>\n",
       "      <td>子孫</td>\n",
       "    </tr>\n",
       "    <tr>\n",
       "      <th>10</th>\n",
       "      <td>士子</td>\n",
       "    </tr>\n",
       "    <tr>\n",
       "      <th>75</th>\n",
       "      <td>考等</td>\n",
       "    </tr>\n",
       "  </tbody>\n",
       "</table>\n",
       "</div>"
      ],
      "text/plain": [
       "   name\n",
       "6    子孫\n",
       "10   士子\n",
       "75   考等"
      ]
     },
     "execution_count": 4,
     "metadata": {},
     "output_type": "execute_result"
    }
   ],
   "source": [
    "df_kin_mismatch.sample(3)"
   ]
  },
  {
   "cell_type": "code",
   "execution_count": 5,
   "metadata": {},
   "outputs": [
    {
     "data": {
      "text/html": [
       "<div>\n",
       "<style scoped>\n",
       "    .dataframe tbody tr th:only-of-type {\n",
       "        vertical-align: middle;\n",
       "    }\n",
       "\n",
       "    .dataframe tbody tr th {\n",
       "        vertical-align: top;\n",
       "    }\n",
       "\n",
       "    .dataframe thead th {\n",
       "        text-align: right;\n",
       "    }\n",
       "</style>\n",
       "<table border=\"1\" class=\"dataframe\">\n",
       "  <thead>\n",
       "    <tr style=\"text-align: right;\">\n",
       "      <th></th>\n",
       "      <th>name</th>\n",
       "      <th>pos</th>\n",
       "    </tr>\n",
       "  </thead>\n",
       "  <tbody>\n",
       "    <tr>\n",
       "      <th>89</th>\n",
       "      <td>景文公</td>\n",
       "      <td>nz</td>\n",
       "    </tr>\n",
       "    <tr>\n",
       "      <th>253</th>\n",
       "      <td>獻惠公</td>\n",
       "      <td>nz</td>\n",
       "    </tr>\n",
       "    <tr>\n",
       "      <th>299</th>\n",
       "      <td>懿德公</td>\n",
       "      <td>nz</td>\n",
       "    </tr>\n",
       "  </tbody>\n",
       "</table>\n",
       "</div>"
      ],
      "text/plain": [
       "    name pos\n",
       "89   景文公  nz\n",
       "253  獻惠公  nz\n",
       "299  懿德公  nz"
      ]
     },
     "execution_count": 5,
     "metadata": {},
     "output_type": "execute_result"
    }
   ],
   "source": [
    "df_nz.sample(3)"
   ]
  },
  {
   "cell_type": "code",
   "execution_count": 6,
   "metadata": {},
   "outputs": [],
   "source": [
    "# All QSW records.\n",
    "df_qsw_raw=pd.read_excel('../data_raw/quan_song_wen_muzhi.xlsx', sheet_name='墓誌銘墓表壙誌行狀神道碑塔銘墓碑')[['content_id', 'content', 'subject', 'author']].set_index('content_id')\n",
    "df_qsw_raw['content']=[str(s) for s in df_qsw_raw['content']]\n",
    "df_qsw_raw.drop(math.nan, inplace=True) # Drop index==NaN\n",
    "# Sample a subset about 10%. Annotated after testing.\n",
    "#df_qsw_raw=df_qsw_raw.sample(500)"
   ]
  },
  {
   "cell_type": "code",
   "execution_count": 7,
   "metadata": {},
   "outputs": [],
   "source": [
    "# Function for seperating sentences.\n",
    "def sep_mark_sent(string):\n",
    "    string=string.replace('，', '/wsep/').replace('；', '/wsep/').replace('、', '/wsep/')\n",
    "    string=string.replace('！', '/wend/').replace('。', '/wend/').replace('？', '/wend/').replace('！', '/wend/')\n",
    "    string=string.replace('：', '/wm/')\n",
    "    return [s for s in string.split(\"/wend/\") if s!='']"
   ]
  },
  {
   "cell_type": "code",
   "execution_count": 8,
   "metadata": {},
   "outputs": [
    {
     "name": "stderr",
     "output_type": "stream",
     "text": [
      "100%|██████████| 4763/4763 [01:48<00:00, 43.76it/s]"
     ]
    },
    {
     "name": "stdout",
     "output_type": "stream",
     "text": [
      "Kinship sentences / All sentences:  0.273\n"
     ]
    },
    {
     "name": "stderr",
     "output_type": "stream",
     "text": [
      "\n"
     ]
    }
   ],
   "source": [
    "# Seperate sentences and retain sentences with kinship words.\n",
    "all_sent_count=0\n",
    "kin_sent_count=0\n",
    "df_qsw_refined=pd.DataFrame()\n",
    "for index in tqdm(df_qsw_raw.index):\n",
    "    sent_list=sep_mark_sent(df_qsw_raw.loc[index]['content']) # Seperate sentences.\n",
    "    all_sent_count+=len(sent_list)\n",
    "    subject=df_qsw_raw.loc[index]['subject']\n",
    "    author=df_qsw_raw.loc[index]['author']\n",
    "    kin_sent_list=[]\n",
    "    content_id=index\n",
    "    # Retain sentences with kinship information.\n",
    "    for sent in sent_list:\n",
    "        # Remove all kin_mismatch words first.\n",
    "        sent_temp=sent\n",
    "        for kin_mismatch in df_kin_mismatch['name']:\n",
    "            sent_temp=sent_temp.replace(kin_mismatch, '')\n",
    "        # See if kin_nm still in sentence.\n",
    "        kin_nm_list=[]\n",
    "        for kin_nm in df_nk['name']:\n",
    "            if kin_nm in sent_temp:\n",
    "                kin_nm_list.append(kin_nm)\n",
    "        if kin_nm_list!=[]:\n",
    "            kin_sent_list.append(sent)\n",
    "    kin_sent_count+=len(kin_sent_list)\n",
    "    df_qsw_refined=pd.concat([pd.DataFrame(data=[[content_id, subject, author, sent] for sent in kin_sent_list],\n",
    "                                          columns=['content_id', 'subject', 'author', 'sent']\n",
    "                                          ), df_qsw_refined], axis=0, ignore_index=True\n",
    "                            )\n",
    "print('Kinship sentences / All sentences: ', round(float(kin_sent_count)/all_sent_count, 3))\n",
    "# Run on entire corpus, 21.2%."
   ]
  },
  {
   "cell_type": "code",
   "execution_count": 9,
   "metadata": {},
   "outputs": [
    {
     "data": {
      "text/plain": [
       "['君諱某，字某。其先始平人，在僖宗朝，有官於蜀者。廣明之亂，唐統紊裂，視世濁溺，留避於此。子孫蕃衍，有居於普者。五世祖紹卿，於五代時，以宗族門地雄於一州；高祖諱光偉，佐東川節度；曾祖諱嶠，祖諱元晏，并潛隱不仕。父諱某，少舉進士，以苦學被病，遂不顧舊業，專治養生之術。作詩百章道其事，自號丹珠子。年過八十，無疾而終。子三人，君其長也。君生而穎慧，不憙他技。未冠，求師於成都。是時，任玠溫如、李畋渭卿，皆以道義文章教授諸生，君執業門下，并爲其高第。歸，將試藝於其郡廷，以干薦書，而豪士惡子競以財賂占壓，寒素不得一步進於其下。乃退而嘆曰：‘是等也，我安能與之以力相較耶?’於是收歛退縮，芟去仕意，僻居靜處，討究群策。經深史隱，鉤擿藏詣；馳詞吐論，坐者常屈。閭里訟訴，槩先詣君所平決，以至不復更由官治，而兩講解矣。教諸子事業，悉有端次。慶曆中，其子、今中都外郎如晦，用其法一舉中進士。君曰：‘是吾門戶之大望，自此子爾。’嘉祐初，以子官授大理評事致仕，三遷爲秘書丞，賜緋衣銀魚。嘗即其居，盛創亭宇，榜之曰‘榮恩’；自作記，道其所以獲當世爲人之甚幸者。鄉人景慕之。治平二年春，中都爲晉原宰，君以雙輿就其養。晉原之治，高出一道，君實有所誨助。間則吟詩飲酒，日日不倦。一旦，召中都語之，曰：‘官居之樂，誠樂矣!然而吾之舊廬，近常往來於吾懷也。汝當具吾歸裝，宜無吾留。’十月，促就道，中都遂假檄侍還其家。既至，亟遣去，曰：‘汝速往，無以吾累汝；汝當憂民，慎毋吾憂也。’自是，日召鄉里故舊聚飲，歡嘑歗歌，愈益精健。諸子立左右，忽顧之，曰：‘父母之年，古人謂可以喜懼者，汝等當知之。吾受祿養幾二紀，名復掛朝籍，人能如吾者幾何?此可喜也。然吾春秋已高，汝能無所懼乎?’家人聞之，錯遌皇惑，問：‘何以及此?體中有覺不如平時者何所?’但俛首嘻笑，不答。又數日，食飲漸不進，求就枕，瞑目良久。以纊候其氣，已不屬矣，遂終焉，十一月十二日也。享年七十五。夫人趙氏，同郡之甲族，婉懿有善譽，宗黨模其閨法，四封爲壽光縣君。生男六人，三早夭；次，中都也；次，處晦、用晦，并舉進士，有文行聞其朋流。女五人：適昌元解惟正，都官員外郎景思問，郡人周著，進士景思永。歸思問者，先卒；後繼之以其娣，封永壽縣君。孫男十人，某某，皆嚮習文藝。孫女九人。其一始嫁河南趙仲遘〔一〕。其孤將以三年二月某日，葬君於樂至縣普安鄉之西山，從先塋也。中都與同有場屋之舊，走僕詣同，求銘其墓，爲之銘。銘曰：孰不種善，君穫其多。奄然而歸，所少謂何。子官曰榮，學者愈侈。君所常望，久焉益偉。人生世中，起跌百端。如君初終，十八尤完。老安先廬，沒集舊兆。更萬千年，銘永其詔。《丹淵集》卷三九。〔一〕一：原作‘十’，據庫本改。']"
      ]
     },
     "execution_count": 9,
     "metadata": {},
     "output_type": "execute_result"
    }
   ],
   "source": [
    "[s for s in df_qsw_raw['content'] if '祖諱元晏' in s]"
   ]
  },
  {
   "cell_type": "code",
   "execution_count": 13,
   "metadata": {},
   "outputs": [
    {
     "data": {
      "text/html": [
       "<div>\n",
       "<style scoped>\n",
       "    .dataframe tbody tr th:only-of-type {\n",
       "        vertical-align: middle;\n",
       "    }\n",
       "\n",
       "    .dataframe tbody tr th {\n",
       "        vertical-align: top;\n",
       "    }\n",
       "\n",
       "    .dataframe thead th {\n",
       "        text-align: right;\n",
       "    }\n",
       "</style>\n",
       "<table border=\"1\" class=\"dataframe\">\n",
       "  <thead>\n",
       "    <tr style=\"text-align: right;\">\n",
       "      <th></th>\n",
       "      <th>content_id</th>\n",
       "      <th>subject</th>\n",
       "      <th>author</th>\n",
       "      <th>sent</th>\n",
       "    </tr>\n",
       "  </thead>\n",
       "  <tbody>\n",
       "    <tr>\n",
       "      <th>17561</th>\n",
       "      <td>8712137.0</td>\n",
       "      <td>晏殊女、富弼妻</td>\n",
       "      <td>李藻</td>\n",
       "      <td>”嗚呼/wsep/夫人可謂終於執禮者歟</td>\n",
       "    </tr>\n",
       "    <tr>\n",
       "      <th>70609</th>\n",
       "      <td>8317681.0</td>\n",
       "      <td>錢俶</td>\n",
       "      <td>慎知禮</td>\n",
       "      <td>元子奉于贄生/wsep/大夫旅于庭實</td>\n",
       "    </tr>\n",
       "    <tr>\n",
       "      <th>36648</th>\n",
       "      <td>5654475.0</td>\n",
       "      <td>胡泳妻、李孟堅女</td>\n",
       "      <td>楊萬里</td>\n",
       "      <td>夫人慧淑莊重/wsep/容止有度/wsep/喜愠未嘗見聲氣/wsep/莊簡愛之</td>\n",
       "    </tr>\n",
       "    <tr>\n",
       "      <th>62107</th>\n",
       "      <td>5131878.0</td>\n",
       "      <td>郭源明</td>\n",
       "      <td>蘇頌</td>\n",
       "      <td>先是/wsep/先公侍讀既葬於縣之肥城里/wsep/餘三十年而太夫人尚無恙</td>\n",
       "    </tr>\n",
       "    <tr>\n",
       "      <th>11551</th>\n",
       "      <td>5307069.0</td>\n",
       "      <td>NaN</td>\n",
       "      <td>陳師道</td>\n",
       "      <td>其後仲父繫奉天獄/wsep/先君收其孥/wsep/而夫人與之有恩</td>\n",
       "    </tr>\n",
       "  </tbody>\n",
       "</table>\n",
       "</div>"
      ],
      "text/plain": [
       "       content_id   subject author                                     sent\n",
       "17561   8712137.0   晏殊女、富弼妻     李藻                      ”嗚呼/wsep/夫人可謂終於執禮者歟\n",
       "70609   8317681.0        錢俶    慎知禮                       元子奉于贄生/wsep/大夫旅于庭實\n",
       "36648   5654475.0  胡泳妻、李孟堅女    楊萬里  夫人慧淑莊重/wsep/容止有度/wsep/喜愠未嘗見聲氣/wsep/莊簡愛之\n",
       "62107   5131878.0       郭源明     蘇頌    先是/wsep/先公侍讀既葬於縣之肥城里/wsep/餘三十年而太夫人尚無恙\n",
       "11551   5307069.0       NaN    陳師道         其後仲父繫奉天獄/wsep/先君收其孥/wsep/而夫人與之有恩"
      ]
     },
     "execution_count": 13,
     "metadata": {},
     "output_type": "execute_result"
    }
   ],
   "source": [
    "df_qsw_refined.sample(5)"
   ]
  },
  {
   "cell_type": "code",
   "execution_count": null,
   "metadata": {},
   "outputs": [
    {
     "name": "stderr",
     "output_type": "stream",
     "text": [
      "100%|██████████| 70915/70915 [00:01<00:00, 42387.84it/s]\n",
      "100%|██████████| 70915/70915 [00:01<00:00, 42283.06it/s]\n"
     ]
    },
    {
     "data": {
      "text/plain": [
       "13495"
      ]
     },
     "execution_count": 14,
     "metadata": {},
     "output_type": "execute_result"
    }
   ],
   "source": [
    "drop_index_list=[]\n",
    "for index in tqdm(df_qsw_refined.index):\n",
    "    sent=df_qsw_refined.loc[index, 'sent']\n",
    "    if ('娶' in sent or '取' in sent or '配' in sent) and ('夫人' not in sent and '氏' not in sent):\n",
    "        drop_index_list.append(index)\n",
    "for index in tqdm(df_qsw_refined.index):\n",
    "    sent=df_qsw_refined.loc[index, 'sent']\n",
    "    if ('歸' in sent or '嫁' in sent or '適' in sent or '許' in sent) and ('女' not in sent and '妹' not in sent and '姑' not in sent and '夫人' not in sent and '姊' not in sent):\n",
    "        drop_index_list.append(index)\n",
    "        \n",
    "df_qsw_refined=df_qsw_refined.drop(drop_index_list)\n",
    "len(drop_index_list)"
   ]
  },
  {
   "cell_type": "markdown",
   "metadata": {},
   "source": [
    "#### Subtracting information by order."
   ]
  },
  {
   "cell_type": "code",
   "execution_count": null,
   "metadata": {},
   "outputs": [
    {
     "name": "stderr",
     "output_type": "stream",
     "text": [
      " 84%|████████▎ | 48280/57733 [08:53<01:44, 90.44it/s]"
     ]
    }
   ],
   "source": [
    "# First, subtract 固定称呼 (POS: nz).\n",
    "for index in tqdm(df_qsw_refined.index):\n",
    "    sent=df_qsw_refined.loc[index]['sent']\n",
    "    nz_list=[]\n",
    "    for nz in df_nz['name']:\n",
    "        if nz in sent:\n",
    "            nz_list+=re.findall(nz, sent)\n",
    "            sent=sent.replace(nz, '/nz/')\n",
    "    df_qsw_refined.loc[index, 'sent_comp']=sent\n",
    "    df_qsw_refined.loc[index, 'nz']='#'.join(nz_list)"
   ]
  },
  {
   "cell_type": "code",
   "execution_count": null,
   "metadata": {},
   "outputs": [],
   "source": [
    "# Second, subtract place names (POS:ns).\n",
    "for index in tqdm(df_qsw_refined.index):\n",
    "    sent=df_qsw_refined.loc[index]['sent_comp']\n",
    "    ns_list=[]\n",
    "    for ns in df_ns['name']:\n",
    "        if ns in sent:\n",
    "            ns_list+=re.findall(ns, sent)\n",
    "            sent=sent.replace(ns, '/ns/')\n",
    "    df_qsw_refined.loc[index, 'sent_comp']=sent\n",
    "    df_qsw_refined.loc[index, 'ns']='#'.join(ns_list)"
   ]
  },
  {
   "cell_type": "code",
   "execution_count": null,
   "metadata": {},
   "outputs": [],
   "source": [
    "# Third, subtract office title (POS:no_noc).\n",
    "for index in tqdm(df_qsw_refined.index):\n",
    "    sent=df_qsw_refined.loc[index]['sent_comp']\n",
    "    no_noc_list=[]\n",
    "    for no_noc in df_no_noc['name']:\n",
    "        if no_noc in sent:\n",
    "            no_noc_list+=re.findall(no_noc, sent)\n",
    "            sent=sent.replace(no_noc, '/no_noc/')\n",
    "    df_qsw_refined.loc[index, 'sent_comp']=sent\n",
    "    df_qsw_refined.loc[index, 'no_noc']='#'.join(no_noc_list)"
   ]
  },
  {
   "cell_type": "code",
   "execution_count": null,
   "metadata": {},
   "outputs": [],
   "source": [
    "df_qsw_refined.sample(3)"
   ]
  },
  {
   "cell_type": "code",
   "execution_count": null,
   "metadata": {},
   "outputs": [],
   "source": [
    "def vno_mark(vno, sent):\n",
    "    vno_re=re.compile(vno+'/no_noc/|'+vno+'/ns/')\n",
    "    vno_list_temp=re.findall(vno_re, sent)\n",
    "    if vno_list_temp!=[]:\n",
    "        sent_comp_temp=sent.replace(vno+'/no_noc/', '/vno//no_noc/')\n",
    "        sent_comp_temp=sent_comp_temp.replace(vno+'/ns/', '/vno//ns/')\n",
    "        return {'sent_comp':sent_comp_temp, \n",
    "                'vno_list':[s.strip('/no_noc/').strip('/ns/') for s in vno_list_temp]}\n",
    "    else:\n",
    "        return None"
   ]
  },
  {
   "cell_type": "code",
   "execution_count": null,
   "metadata": {},
   "outputs": [],
   "source": [
    "# Subtract appointing verb (POS:vno).\n",
    "for index in df_qsw_refined.index:\n",
    "    sent=df_qsw_refined.loc[index]['sent_comp']\n",
    "    vno_list=[]\n",
    "    for vno in df_vno['name']:\n",
    "        tag_result=vno_mark(vno, sent)\n",
    "        if tag_result!=None:\n",
    "            sent=tag_result['sent_comp']\n",
    "            vno_list+=tag_result['vno_list']\n",
    "    df_qsw_refined.loc[index, 'sent_comp']=sent\n",
    "    df_qsw_refined.loc[index, 'vno']='#'.join(vno_list)"
   ]
  },
  {
   "cell_type": "code",
   "execution_count": null,
   "metadata": {},
   "outputs": [],
   "source": [
    "df_qsw_refined.fillna('', inplace=True)\n",
    "df_qsw_refined.sample(5)"
   ]
  },
  {
   "cell_type": "code",
   "execution_count": null,
   "metadata": {},
   "outputs": [],
   "source": [
    "df_qsw_refined.to_excel('../output/qsw_subtract.xlsx', encoding='utf8')"
   ]
  },
  {
   "cell_type": "code",
   "execution_count": null,
   "metadata": {},
   "outputs": [],
   "source": []
  }
 ],
 "metadata": {
  "kernelspec": {
   "display_name": "Python 3",
   "language": "python",
   "name": "python3"
  },
  "language_info": {
   "codemirror_mode": {
    "name": "ipython",
    "version": 3
   },
   "file_extension": ".py",
   "mimetype": "text/x-python",
   "name": "python",
   "nbconvert_exporter": "python",
   "pygments_lexer": "ipython3",
   "version": "3.6.4"
  }
 },
 "nbformat": 4,
 "nbformat_minor": 2
}
