{
 "cells": [
  {
   "cell_type": "markdown",
   "metadata": {},
   "source": [
    "TODO:\n",
    "- Replace admin units first, then title."
   ]
  },
  {
   "cell_type": "code",
   "execution_count": 1,
   "metadata": {},
   "outputs": [],
   "source": [
    "% matplotlib inline\n",
    "import sqlite3\n",
    "import pandas as pd\n",
    "import networkx as nx\n",
    "import xlrd\n",
    "import matplotlib.pyplot as plt\n",
    "import math\n",
    "import warnings\n",
    "from tqdm import tqdm\n",
    "import re\n",
    "warnings.filterwarnings('ignore')\n",
    "plt.style.use('ggplot')"
   ]
  },
  {
   "cell_type": "markdown",
   "metadata": {},
   "source": [
    "### `c_office_chn` from UCI."
   ]
  },
  {
   "cell_type": "code",
   "execution_count": 2,
   "metadata": {},
   "outputs": [],
   "source": [
    "df_office_ming_drop_col=pd.read_csv('https://docs.google.com/spreadsheets/d/e/2PACX-1vSCmhbCk1B-9jjINMhy_VwikM6_Sn7bjdO7b_vaZJkVcYCCYlWVlhYVCFtAs0fPX-UEO62GWxaX1qAS/pub?gid=630627340&single=true&output=tsv',\n",
    "                                    sep='\\t')"
   ]
  },
  {
   "cell_type": "code",
   "execution_count": 3,
   "metadata": {},
   "outputs": [],
   "source": [
    "df_office_ming_drop_col=df_office_ming_drop_col[['c_office_id（Dictionary Ser#)','c_office_chn']].rename(columns={'c_office_id（Dictionary Ser#)':'c_office_id'})\n",
    "df_office_ming_drop_col['c_office_chn']=[s.replace('/', '') for s in df_office_ming_drop_col['c_office_chn']]"
   ]
  },
  {
   "cell_type": "markdown",
   "metadata": {},
   "source": [
    "### `c_office_chn` from CBDB uncleaned."
   ]
  },
  {
   "cell_type": "code",
   "execution_count": 2,
   "metadata": {},
   "outputs": [],
   "source": [
    "conn = sqlite3.connect('../../SQL/20170424CBDBauUserSqlite.db')"
   ]
  },
  {
   "cell_type": "code",
   "execution_count": 3,
   "metadata": {},
   "outputs": [
    {
     "data": {
      "text/html": [
       "<div>\n",
       "<style scoped>\n",
       "    .dataframe tbody tr th:only-of-type {\n",
       "        vertical-align: middle;\n",
       "    }\n",
       "\n",
       "    .dataframe tbody tr th {\n",
       "        vertical-align: top;\n",
       "    }\n",
       "\n",
       "    .dataframe thead th {\n",
       "        text-align: right;\n",
       "    }\n",
       "</style>\n",
       "<table border=\"1\" class=\"dataframe\">\n",
       "  <thead>\n",
       "    <tr style=\"text-align: right;\">\n",
       "      <th></th>\n",
       "      <th>c_office_id</th>\n",
       "      <th>c_office_chn</th>\n",
       "    </tr>\n",
       "  </thead>\n",
       "  <tbody>\n",
       "    <tr>\n",
       "      <th>16575</th>\n",
       "      <td>71839</td>\n",
       "      <td>懷寧侯</td>\n",
       "    </tr>\n",
       "    <tr>\n",
       "      <th>16236</th>\n",
       "      <td>71500</td>\n",
       "      <td>正使</td>\n",
       "    </tr>\n",
       "    <tr>\n",
       "      <th>17469</th>\n",
       "      <td>72742</td>\n",
       "      <td>雲南司郎中管通州粮儲</td>\n",
       "    </tr>\n",
       "    <tr>\n",
       "      <th>17486</th>\n",
       "      <td>72759</td>\n",
       "      <td>管倉</td>\n",
       "    </tr>\n",
       "    <tr>\n",
       "      <th>15121</th>\n",
       "      <td>70385</td>\n",
       "      <td>國子學錄</td>\n",
       "    </tr>\n",
       "  </tbody>\n",
       "</table>\n",
       "</div>"
      ],
      "text/plain": [
       "       c_office_id c_office_chn\n",
       "16575        71839          懷寧侯\n",
       "16236        71500           正使\n",
       "17469        72742   雲南司郎中管通州粮儲\n",
       "17486        72759           管倉\n",
       "15121        70385         國子學錄"
      ]
     },
     "execution_count": 3,
     "metadata": {},
     "output_type": "execute_result"
    }
   ],
   "source": [
    "df_office_ming=pd.read_sql_query(\"SELECT * FROM OFFICE_CODES\", conn)[pd.read_sql_query(\"SELECT * FROM OFFICE_CODES\", conn).c_dy==19]\n",
    "df_office_ming_drop_col=df_office_ming[['c_office_id', 'c_office_chn']]\n",
    "df_office_ming_drop_col.sample(5)"
   ]
  },
  {
   "cell_type": "markdown",
   "metadata": {},
   "source": [
    "### Coding `c_office_chn`."
   ]
  },
  {
   "cell_type": "code",
   "execution_count": 4,
   "metadata": {},
   "outputs": [],
   "source": [
    "df_adm=pd.read_csv('../data_dict/C_OT_ADM.tsv', sep='\\t').set_index('c_ot_adm_id')\n",
    "df_cls=pd.read_csv('../data_dict/C_OT_CLS.tsv', sep='\\t').set_index('c_ot_cls_id')\n",
    "df_tit=pd.read_csv('../data_dict/C_OT_TIT.tsv', sep='\\t').set_index('c_ot_tit_id')"
   ]
  },
  {
   "cell_type": "code",
   "execution_count": 5,
   "metadata": {},
   "outputs": [
    {
     "data": {
      "text/html": [
       "<div>\n",
       "<style scoped>\n",
       "    .dataframe tbody tr th:only-of-type {\n",
       "        vertical-align: middle;\n",
       "    }\n",
       "\n",
       "    .dataframe tbody tr th {\n",
       "        vertical-align: top;\n",
       "    }\n",
       "\n",
       "    .dataframe thead th {\n",
       "        text-align: right;\n",
       "    }\n",
       "</style>\n",
       "<table border=\"1\" class=\"dataframe\">\n",
       "  <thead>\n",
       "    <tr style=\"text-align: right;\">\n",
       "      <th></th>\n",
       "      <th>c_ot_tit_chinm</th>\n",
       "      <th>c_ot_tit_engnm</th>\n",
       "      <th>c_ot_tit_desc</th>\n",
       "      <th>c_ot_tit_start</th>\n",
       "      <th>c_ot_tit_end</th>\n",
       "    </tr>\n",
       "    <tr>\n",
       "      <th>c_ot_tit_id</th>\n",
       "      <th></th>\n",
       "      <th></th>\n",
       "      <th></th>\n",
       "      <th></th>\n",
       "      <th></th>\n",
       "    </tr>\n",
       "  </thead>\n",
       "  <tbody>\n",
       "    <tr>\n",
       "      <th>106</th>\n",
       "      <td>漕運使</td>\n",
       "      <td>NaN</td>\n",
       "      <td>NaN</td>\n",
       "      <td>NaN</td>\n",
       "      <td>NaN</td>\n",
       "    </tr>\n",
       "    <tr>\n",
       "      <th>1092</th>\n",
       "      <td>前鋒</td>\n",
       "      <td>NaN</td>\n",
       "      <td>NaN</td>\n",
       "      <td>NaN</td>\n",
       "      <td>NaN</td>\n",
       "    </tr>\n",
       "    <tr>\n",
       "      <th>387</th>\n",
       "      <td>左監正</td>\n",
       "      <td>NaN</td>\n",
       "      <td>NaN</td>\n",
       "      <td>NaN</td>\n",
       "      <td>NaN</td>\n",
       "    </tr>\n",
       "  </tbody>\n",
       "</table>\n",
       "</div>"
      ],
      "text/plain": [
       "            c_ot_tit_chinm  c_ot_tit_engnm  c_ot_tit_desc  c_ot_tit_start  \\\n",
       "c_ot_tit_id                                                                 \n",
       "106                    漕運使             NaN            NaN             NaN   \n",
       "1092                    前鋒             NaN            NaN             NaN   \n",
       "387                    左監正             NaN            NaN             NaN   \n",
       "\n",
       "             c_ot_tit_end  \n",
       "c_ot_tit_id                \n",
       "106                   NaN  \n",
       "1092                  NaN  \n",
       "387                   NaN  "
      ]
     },
     "execution_count": 5,
     "metadata": {},
     "output_type": "execute_result"
    }
   ],
   "source": [
    "df_tit.sample(3)"
   ]
  },
  {
   "cell_type": "code",
   "execution_count": 6,
   "metadata": {},
   "outputs": [],
   "source": [
    "df_office_ming_drop_col['c_ot_coding']=df_office_ming_drop_col['c_office_chn']"
   ]
  },
  {
   "cell_type": "code",
   "execution_count": 7,
   "metadata": {},
   "outputs": [
    {
     "name": "stderr",
     "output_type": "stream",
     "text": [
      "100%|██████████| 4318/4318 [02:17<00:00, 31.46it/s]\n"
     ]
    },
    {
     "data": {
      "text/html": [
       "<div>\n",
       "<style scoped>\n",
       "    .dataframe tbody tr th:only-of-type {\n",
       "        vertical-align: middle;\n",
       "    }\n",
       "\n",
       "    .dataframe tbody tr th {\n",
       "        vertical-align: top;\n",
       "    }\n",
       "\n",
       "    .dataframe thead th {\n",
       "        text-align: right;\n",
       "    }\n",
       "</style>\n",
       "<table border=\"1\" class=\"dataframe\">\n",
       "  <thead>\n",
       "    <tr style=\"text-align: right;\">\n",
       "      <th></th>\n",
       "      <th>c_office_id</th>\n",
       "      <th>c_office_chn</th>\n",
       "      <th>c_ot_coding</th>\n",
       "      <th>c_ot_tit_chinm</th>\n",
       "    </tr>\n",
       "  </thead>\n",
       "  <tbody>\n",
       "    <tr>\n",
       "      <th>2256</th>\n",
       "      <td>70071</td>\n",
       "      <td>右參議</td>\n",
       "      <td>T212</td>\n",
       "      <td>右參議</td>\n",
       "    </tr>\n",
       "    <tr>\n",
       "      <th>2628</th>\n",
       "      <td>2813</td>\n",
       "      <td>右參將</td>\n",
       "      <td>T711</td>\n",
       "      <td>右參將</td>\n",
       "    </tr>\n",
       "    <tr>\n",
       "      <th>1388</th>\n",
       "      <td>2150</td>\n",
       "      <td>儀鸞司大使</td>\n",
       "      <td>儀鸞司T1214</td>\n",
       "      <td>大使</td>\n",
       "    </tr>\n",
       "    <tr>\n",
       "      <th>2090</th>\n",
       "      <td>2600</td>\n",
       "      <td>都稅司副使</td>\n",
       "      <td>都稅司T1018</td>\n",
       "      <td>副使</td>\n",
       "    </tr>\n",
       "    <tr>\n",
       "      <th>4176</th>\n",
       "      <td>389</td>\n",
       "      <td>右司副</td>\n",
       "      <td>T739</td>\n",
       "      <td>右司副</td>\n",
       "    </tr>\n",
       "  </tbody>\n",
       "</table>\n",
       "</div>"
      ],
      "text/plain": [
       "     c_office_id c_office_chn c_ot_coding c_ot_tit_chinm\n",
       "2256       70071          右參議        T212            右參議\n",
       "2628        2813          右參將        T711            右參將\n",
       "1388        2150        儀鸞司大使    儀鸞司T1214             大使\n",
       "2090        2600        都稅司副使    都稅司T1018             副使\n",
       "4176         389          右司副        T739            右司副"
      ]
     },
     "execution_count": 7,
     "metadata": {},
     "output_type": "execute_result"
    }
   ],
   "source": [
    "# Replace titles (only one title in an office title string).\n",
    "for ming_ot_index in tqdm(df_office_ming_drop_col.index):\n",
    "    ming_ot = df_office_ming_drop_col.loc[ming_ot_index, 'c_ot_coding']\n",
    "    ming_ot_done=[]\n",
    "    for tit_index in df_tit.index:\n",
    "        tit=df_tit.loc[tit_index, 'c_ot_tit_chinm']\n",
    "        if ming_ot.endswith(tit) and ming_ot not in ming_ot_done:\n",
    "            df_office_ming_drop_col.loc[ming_ot_index, 'c_ot_tit_chinm']=tit\n",
    "            df_office_ming_drop_col.loc[ming_ot_index, 'c_ot_coding']=ming_ot.replace(tit, 'T'+str(tit_index))\n",
    "            ming_ot_done.append(ming_ot)\n",
    "df_office_ming_drop_col.sample(5)"
   ]
  },
  {
   "cell_type": "code",
   "execution_count": 8,
   "metadata": {},
   "outputs": [
    {
     "name": "stderr",
     "output_type": "stream",
     "text": [
      "100%|██████████| 4318/4318 [03:03<00:00, 23.54it/s]\n"
     ]
    },
    {
     "data": {
      "text/html": [
       "<div>\n",
       "<style scoped>\n",
       "    .dataframe tbody tr th:only-of-type {\n",
       "        vertical-align: middle;\n",
       "    }\n",
       "\n",
       "    .dataframe tbody tr th {\n",
       "        vertical-align: top;\n",
       "    }\n",
       "\n",
       "    .dataframe thead th {\n",
       "        text-align: right;\n",
       "    }\n",
       "</style>\n",
       "<table border=\"1\" class=\"dataframe\">\n",
       "  <thead>\n",
       "    <tr style=\"text-align: right;\">\n",
       "      <th></th>\n",
       "      <th>c_office_id</th>\n",
       "      <th>c_office_chn</th>\n",
       "      <th>c_ot_coding</th>\n",
       "      <th>c_ot_tit_chinm</th>\n",
       "      <th>c_ot_adm_chinm</th>\n",
       "    </tr>\n",
       "  </thead>\n",
       "  <tbody>\n",
       "    <tr>\n",
       "      <th>364</th>\n",
       "      <td>989</td>\n",
       "      <td>交阯清吏司員外郎</td>\n",
       "      <td>A76T608</td>\n",
       "      <td>員外郎</td>\n",
       "      <td>交阯清吏司</td>\n",
       "    </tr>\n",
       "    <tr>\n",
       "      <th>1470</th>\n",
       "      <td>1982</td>\n",
       "      <td>大都督</td>\n",
       "      <td>T300</td>\n",
       "      <td>大都督</td>\n",
       "      <td>NaN</td>\n",
       "    </tr>\n",
       "    <tr>\n",
       "      <th>2803</th>\n",
       "      <td>72024</td>\n",
       "      <td>咸寧伯</td>\n",
       "      <td>T664</td>\n",
       "      <td>咸寧伯</td>\n",
       "      <td>NaN</td>\n",
       "    </tr>\n",
       "    <tr>\n",
       "      <th>1429</th>\n",
       "      <td>71544</td>\n",
       "      <td>左都督</td>\n",
       "      <td>T462</td>\n",
       "      <td>左都督</td>\n",
       "      <td>NaN</td>\n",
       "    </tr>\n",
       "    <tr>\n",
       "      <th>2600</th>\n",
       "      <td>70718</td>\n",
       "      <td>南路參將</td>\n",
       "      <td>A837T931</td>\n",
       "      <td>參將</td>\n",
       "      <td>南路</td>\n",
       "    </tr>\n",
       "  </tbody>\n",
       "</table>\n",
       "</div>"
      ],
      "text/plain": [
       "     c_office_id c_office_chn c_ot_coding c_ot_tit_chinm c_ot_adm_chinm\n",
       "364          989     交阯清吏司員外郎     A76T608            員外郎          交阯清吏司\n",
       "1470        1982          大都督        T300            大都督            NaN\n",
       "2803       72024          咸寧伯        T664            咸寧伯            NaN\n",
       "1429       71544          左都督        T462            左都督            NaN\n",
       "2600       70718         南路參將    A837T931             參將             南路"
      ]
     },
     "execution_count": 8,
     "metadata": {},
     "output_type": "execute_result"
    }
   ],
   "source": [
    "# Replace admin units (can be multiple units in an office title string).\n",
    "for ming_ot_index in tqdm(df_office_ming_drop_col.index):\n",
    "    adm_list=[]\n",
    "    for adm_index in df_adm.index:\n",
    "        adm=df_adm.loc[adm_index, 'c_ot_adm_chinm']\n",
    "        c_ot_coding = df_office_ming_drop_col.loc[ming_ot_index, 'c_ot_coding']\n",
    "        if adm in c_ot_coding:\n",
    "            adm_list.append(adm)\n",
    "            df_office_ming_drop_col.loc[ming_ot_index, 'c_ot_coding']=c_ot_coding.replace(adm, 'A'+str(adm_index))\n",
    "    if adm_list!=[]:\n",
    "        df_office_ming_drop_col.loc[ming_ot_index, 'c_ot_adm_chinm']='#'.join(adm_list)\n",
    "df_office_ming_drop_col.sample(5)"
   ]
  },
  {
   "cell_type": "code",
   "execution_count": 9,
   "metadata": {},
   "outputs": [
    {
     "name": "stderr",
     "output_type": "stream",
     "text": [
      "100%|██████████| 4318/4318 [00:11<00:00, 364.82it/s]\n"
     ]
    }
   ],
   "source": [
    "# Replace Classifications (can be multiple units in an office title string).\n",
    "for ming_ot_index in tqdm(df_office_ming_drop_col.index):\n",
    "    cls_list=[]\n",
    "    for cls_index in df_cls.index:\n",
    "        cls=df_cls.loc[cls_index, 'c_ot_cls_chinm']\n",
    "        c_ot_coding = df_office_ming_drop_col.loc[ming_ot_index, 'c_ot_coding']\n",
    "        if cls in c_ot_coding:\n",
    "            cls_list.append(cls)\n",
    "            df_office_ming_drop_col.loc[ming_ot_index, 'c_ot_coding']=c_ot_coding.replace(cls, 'C'+str(cls_index))\n",
    "    if cls_list!=[]:\n",
    "        df_office_ming_drop_col.loc[ming_ot_index, 'c_ot_cls_chinm']='#'.join(cls_list)"
   ]
  },
  {
   "cell_type": "code",
   "execution_count": 10,
   "metadata": {},
   "outputs": [],
   "source": [
    "df_office_ming_drop_col.to_excel('../dump/ming_office_title_coding_UCI.xlsx', encoding='utf8')"
   ]
  },
  {
   "cell_type": "code",
   "execution_count": null,
   "metadata": {},
   "outputs": [],
   "source": []
  }
 ],
 "metadata": {
  "kernelspec": {
   "display_name": "Python 3",
   "language": "python",
   "name": "python3"
  },
  "language_info": {
   "codemirror_mode": {
    "name": "ipython",
    "version": 3
   },
   "file_extension": ".py",
   "mimetype": "text/x-python",
   "name": "python",
   "nbconvert_exporter": "python",
   "pygments_lexer": "ipython3",
   "version": "3.6.4"
  }
 },
 "nbformat": 4,
 "nbformat_minor": 2
}
