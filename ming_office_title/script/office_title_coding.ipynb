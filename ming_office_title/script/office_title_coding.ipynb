{
 "cells": [
  {
   "cell_type": "code",
   "execution_count": 1,
   "metadata": {},
   "outputs": [],
   "source": [
    "% matplotlib inline\n",
    "import sqlite3\n",
    "import pandas as pd\n",
    "import networkx as nx\n",
    "import xlrd\n",
    "import matplotlib.pyplot as plt\n",
    "import math\n",
    "import warnings\n",
    "from tqdm import tqdm\n",
    "import re\n",
    "warnings.filterwarnings('ignore')\n",
    "plt.style.use('ggplot')"
   ]
  },
  {
   "cell_type": "markdown",
   "metadata": {},
   "source": [
    "### `c_office_chn` from UCI."
   ]
  },
  {
   "cell_type": "code",
   "execution_count": 11,
   "metadata": {},
   "outputs": [],
   "source": [
    "df_office_ming_drop_col=pd.read_csv('https://docs.google.com/spreadsheets/d/e/2PACX-1vSCmhbCk1B-9jjINMhy_VwikM6_Sn7bjdO7b_vaZJkVcYCCYlWVlhYVCFtAs0fPX-UEO62GWxaX1qAS/pub?gid=630627340&single=true&output=tsv',\n",
    "                                    sep='\\t')"
   ]
  },
  {
   "cell_type": "code",
   "execution_count": 12,
   "metadata": {},
   "outputs": [],
   "source": [
    "df_office_ming_drop_col=df_office_ming_drop_col[['c_office_id（Dictionary Ser#)','c_office_chn']].rename(columns={'c_office_id（Dictionary Ser#)':'c_office_id'})"
   ]
  },
  {
   "cell_type": "markdown",
   "metadata": {},
   "source": [
    "### `c_office_chn` from CBDB uncleaned."
   ]
  },
  {
   "cell_type": "code",
   "execution_count": 2,
   "metadata": {},
   "outputs": [],
   "source": [
    "conn = sqlite3.connect('../../SQL/20170424CBDBauUserSqlite.db')"
   ]
  },
  {
   "cell_type": "code",
   "execution_count": 3,
   "metadata": {},
   "outputs": [
    {
     "data": {
      "text/html": [
       "<div>\n",
       "<style scoped>\n",
       "    .dataframe tbody tr th:only-of-type {\n",
       "        vertical-align: middle;\n",
       "    }\n",
       "\n",
       "    .dataframe tbody tr th {\n",
       "        vertical-align: top;\n",
       "    }\n",
       "\n",
       "    .dataframe thead th {\n",
       "        text-align: right;\n",
       "    }\n",
       "</style>\n",
       "<table border=\"1\" class=\"dataframe\">\n",
       "  <thead>\n",
       "    <tr style=\"text-align: right;\">\n",
       "      <th></th>\n",
       "      <th>c_office_id</th>\n",
       "      <th>c_office_chn</th>\n",
       "    </tr>\n",
       "  </thead>\n",
       "  <tbody>\n",
       "    <tr>\n",
       "      <th>16575</th>\n",
       "      <td>71839</td>\n",
       "      <td>懷寧侯</td>\n",
       "    </tr>\n",
       "    <tr>\n",
       "      <th>16236</th>\n",
       "      <td>71500</td>\n",
       "      <td>正使</td>\n",
       "    </tr>\n",
       "    <tr>\n",
       "      <th>17469</th>\n",
       "      <td>72742</td>\n",
       "      <td>雲南司郎中管通州粮儲</td>\n",
       "    </tr>\n",
       "    <tr>\n",
       "      <th>17486</th>\n",
       "      <td>72759</td>\n",
       "      <td>管倉</td>\n",
       "    </tr>\n",
       "    <tr>\n",
       "      <th>15121</th>\n",
       "      <td>70385</td>\n",
       "      <td>國子學錄</td>\n",
       "    </tr>\n",
       "  </tbody>\n",
       "</table>\n",
       "</div>"
      ],
      "text/plain": [
       "       c_office_id c_office_chn\n",
       "16575        71839          懷寧侯\n",
       "16236        71500           正使\n",
       "17469        72742   雲南司郎中管通州粮儲\n",
       "17486        72759           管倉\n",
       "15121        70385         國子學錄"
      ]
     },
     "execution_count": 3,
     "metadata": {},
     "output_type": "execute_result"
    }
   ],
   "source": [
    "df_office_ming=pd.read_sql_query(\"SELECT * FROM OFFICE_CODES\", conn)[pd.read_sql_query(\"SELECT * FROM OFFICE_CODES\", conn).c_dy==19]\n",
    "df_office_ming_drop_col=df_office_ming[['c_office_id', 'c_office_chn']]\n",
    "df_office_ming_drop_col.sample(5)"
   ]
  },
  {
   "cell_type": "markdown",
   "metadata": {},
   "source": [
    "### Coding `c_office_chn`."
   ]
  },
  {
   "cell_type": "code",
   "execution_count": 13,
   "metadata": {},
   "outputs": [],
   "source": [
    "df_adm=pd.read_csv('../data_dict/C_OT_ADM.tsv', sep='\\t').set_index('c_ot_adm_id')\n",
    "df_cls=pd.read_csv('../data_dict/C_OT_CLS.tsv', sep='\\t').set_index('c_ot_cls_id')\n",
    "df_tit=pd.read_csv('../data_dict/C_OT_TIT.tsv', sep='\\t').set_index('c_ot_tit_id')"
   ]
  },
  {
   "cell_type": "code",
   "execution_count": 14,
   "metadata": {},
   "outputs": [
    {
     "data": {
      "text/html": [
       "<div>\n",
       "<style scoped>\n",
       "    .dataframe tbody tr th:only-of-type {\n",
       "        vertical-align: middle;\n",
       "    }\n",
       "\n",
       "    .dataframe tbody tr th {\n",
       "        vertical-align: top;\n",
       "    }\n",
       "\n",
       "    .dataframe thead th {\n",
       "        text-align: right;\n",
       "    }\n",
       "</style>\n",
       "<table border=\"1\" class=\"dataframe\">\n",
       "  <thead>\n",
       "    <tr style=\"text-align: right;\">\n",
       "      <th></th>\n",
       "      <th>c_ot_tit_chinm</th>\n",
       "      <th>c_ot_tit_engnm</th>\n",
       "      <th>c_ot_tit_desc</th>\n",
       "      <th>c_ot_tit_start</th>\n",
       "      <th>c_ot_tit_end</th>\n",
       "    </tr>\n",
       "    <tr>\n",
       "      <th>c_ot_tit_id</th>\n",
       "      <th></th>\n",
       "      <th></th>\n",
       "      <th></th>\n",
       "      <th></th>\n",
       "      <th></th>\n",
       "    </tr>\n",
       "  </thead>\n",
       "  <tbody>\n",
       "    <tr>\n",
       "      <th>448</th>\n",
       "      <td>湖西道</td>\n",
       "      <td>NaN</td>\n",
       "      <td>NaN</td>\n",
       "      <td>NaN</td>\n",
       "      <td>NaN</td>\n",
       "    </tr>\n",
       "    <tr>\n",
       "      <th>336</th>\n",
       "      <td>撫寧伯</td>\n",
       "      <td>NaN</td>\n",
       "      <td>NaN</td>\n",
       "      <td>NaN</td>\n",
       "      <td>NaN</td>\n",
       "    </tr>\n",
       "    <tr>\n",
       "      <th>673</th>\n",
       "      <td>武勳王</td>\n",
       "      <td>NaN</td>\n",
       "      <td>NaN</td>\n",
       "      <td>NaN</td>\n",
       "      <td>NaN</td>\n",
       "    </tr>\n",
       "  </tbody>\n",
       "</table>\n",
       "</div>"
      ],
      "text/plain": [
       "            c_ot_tit_chinm  c_ot_tit_engnm  c_ot_tit_desc  c_ot_tit_start  \\\n",
       "c_ot_tit_id                                                                 \n",
       "448                    湖西道             NaN            NaN             NaN   \n",
       "336                    撫寧伯             NaN            NaN             NaN   \n",
       "673                    武勳王             NaN            NaN             NaN   \n",
       "\n",
       "             c_ot_tit_end  \n",
       "c_ot_tit_id                \n",
       "448                   NaN  \n",
       "336                   NaN  \n",
       "673                   NaN  "
      ]
     },
     "execution_count": 14,
     "metadata": {},
     "output_type": "execute_result"
    }
   ],
   "source": [
    "df_tit.sample(3)"
   ]
  },
  {
   "cell_type": "code",
   "execution_count": 15,
   "metadata": {},
   "outputs": [
    {
     "name": "stderr",
     "output_type": "stream",
     "text": [
      "100%|██████████| 4318/4318 [02:21<00:00, 30.43it/s]\n"
     ]
    }
   ],
   "source": [
    "# Replace titles (only one title in an office title string).\n",
    "df_office_ming_drop_col['c_ot_coding']=''\n",
    "for ming_ot_index in tqdm(df_office_ming_drop_col.index):\n",
    "    ming_ot = df_office_ming_drop_col.loc[ming_ot_index, 'c_office_chn']\n",
    "    for tit_index in df_tit.index:\n",
    "        tit=df_tit.loc[tit_index, 'c_ot_tit_chinm']\n",
    "        if ming_ot.endswith(tit):\n",
    "            df_office_ming_drop_col.loc[ming_ot_index, 'c_ot_tit_chinm']=tit\n",
    "            df_office_ming_drop_col.loc[ming_ot_index, 'c_ot_coding']=ming_ot.replace(tit, 'T'+str(tit_index))"
   ]
  },
  {
   "cell_type": "code",
   "execution_count": 16,
   "metadata": {},
   "outputs": [
    {
     "data": {
      "text/html": [
       "<div>\n",
       "<style scoped>\n",
       "    .dataframe tbody tr th:only-of-type {\n",
       "        vertical-align: middle;\n",
       "    }\n",
       "\n",
       "    .dataframe tbody tr th {\n",
       "        vertical-align: top;\n",
       "    }\n",
       "\n",
       "    .dataframe thead th {\n",
       "        text-align: right;\n",
       "    }\n",
       "</style>\n",
       "<table border=\"1\" class=\"dataframe\">\n",
       "  <thead>\n",
       "    <tr style=\"text-align: right;\">\n",
       "      <th></th>\n",
       "      <th>c_office_id</th>\n",
       "      <th>c_office_chn</th>\n",
       "      <th>c_ot_coding</th>\n",
       "      <th>c_ot_tit_chinm</th>\n",
       "    </tr>\n",
       "  </thead>\n",
       "  <tbody>\n",
       "    <tr>\n",
       "      <th>414</th>\n",
       "      <td>1069</td>\n",
       "      <td>度支部員外郎</td>\n",
       "      <td>度支部T608</td>\n",
       "      <td>員外郎</td>\n",
       "    </tr>\n",
       "    <tr>\n",
       "      <th>2764</th>\n",
       "      <td>3054</td>\n",
       "      <td>倉大使</td>\n",
       "      <td>倉大T1338</td>\n",
       "      <td>使</td>\n",
       "    </tr>\n",
       "    <tr>\n",
       "      <th>2523</th>\n",
       "      <td>2931</td>\n",
       "      <td>鎮守總兵官</td>\n",
       "      <td>鎮守T234</td>\n",
       "      <td>總兵官</td>\n",
       "    </tr>\n",
       "    <tr>\n",
       "      <th>2951</th>\n",
       "      <td>71758</td>\n",
       "      <td>東川侯</td>\n",
       "      <td>東川T1348</td>\n",
       "      <td>侯</td>\n",
       "    </tr>\n",
       "    <tr>\n",
       "      <th>3908</th>\n",
       "      <td>638</td>\n",
       "      <td>尚寶兼守殿</td>\n",
       "      <td></td>\n",
       "      <td>NaN</td>\n",
       "    </tr>\n",
       "    <tr>\n",
       "      <th>242</th>\n",
       "      <td>70665</td>\n",
       "      <td>驗封清吏司郎中</td>\n",
       "      <td>驗封清吏司T1297</td>\n",
       "      <td>郎中</td>\n",
       "    </tr>\n",
       "    <tr>\n",
       "      <th>3904</th>\n",
       "      <td>641</td>\n",
       "      <td>尚冠奉御</td>\n",
       "      <td>尚冠T1273</td>\n",
       "      <td>奉御</td>\n",
       "    </tr>\n",
       "    <tr>\n",
       "      <th>1195</th>\n",
       "      <td>71503</td>\n",
       "      <td>知貢舉官</td>\n",
       "      <td>T50</td>\n",
       "      <td>知貢舉官</td>\n",
       "    </tr>\n",
       "    <tr>\n",
       "      <th>4258</th>\n",
       "      <td>71650</td>\n",
       "      <td>左中允</td>\n",
       "      <td>T368</td>\n",
       "      <td>左中允</td>\n",
       "    </tr>\n",
       "    <tr>\n",
       "      <th>3503</th>\n",
       "      <td>95</td>\n",
       "      <td>大長公主</td>\n",
       "      <td>大長T971</td>\n",
       "      <td>公主</td>\n",
       "    </tr>\n",
       "  </tbody>\n",
       "</table>\n",
       "</div>"
      ],
      "text/plain": [
       "     c_office_id c_office_chn c_ot_coding c_ot_tit_chinm\n",
       "414         1069       度支部員外郎     度支部T608            員外郎\n",
       "2764        3054          倉大使     倉大T1338              使\n",
       "2523        2931        鎮守總兵官      鎮守T234            總兵官\n",
       "2951       71758          東川侯     東川T1348              侯\n",
       "3908         638        尚寶兼守殿                        NaN\n",
       "242        70665      驗封清吏司郎中  驗封清吏司T1297             郎中\n",
       "3904         641         尚冠奉御     尚冠T1273             奉御\n",
       "1195       71503         知貢舉官         T50           知貢舉官\n",
       "4258       71650          左中允        T368            左中允\n",
       "3503          95         大長公主      大長T971             公主"
      ]
     },
     "execution_count": 16,
     "metadata": {},
     "output_type": "execute_result"
    }
   ],
   "source": [
    "df_office_ming_drop_col.sample(10)"
   ]
  },
  {
   "cell_type": "code",
   "execution_count": 17,
   "metadata": {},
   "outputs": [
    {
     "name": "stderr",
     "output_type": "stream",
     "text": [
      "100%|██████████| 4318/4318 [03:04<00:00, 23.39it/s]\n"
     ]
    }
   ],
   "source": [
    "# Replace admin units (can be multiple units in an office title string).\n",
    "for ming_ot_index in tqdm(df_office_ming_drop_col.index):\n",
    "    adm_list=[]\n",
    "    for adm_index in df_adm.index:\n",
    "        adm=df_adm.loc[adm_index, 'c_ot_adm_chinm']\n",
    "        c_ot_coding = df_office_ming_drop_col.loc[ming_ot_index, 'c_ot_coding']\n",
    "        if adm in c_ot_coding:\n",
    "            adm_list.append(adm)\n",
    "            df_office_ming_drop_col.loc[ming_ot_index, 'c_ot_coding']=c_ot_coding.replace(adm, 'A'+str(adm_index))\n",
    "    if adm_list!=[]:\n",
    "        df_office_ming_drop_col.loc[ming_ot_index, 'c_ot_adm_chinm']='#'.join(adm_list)"
   ]
  },
  {
   "cell_type": "code",
   "execution_count": 18,
   "metadata": {},
   "outputs": [
    {
     "data": {
      "text/html": [
       "<div>\n",
       "<style scoped>\n",
       "    .dataframe tbody tr th:only-of-type {\n",
       "        vertical-align: middle;\n",
       "    }\n",
       "\n",
       "    .dataframe tbody tr th {\n",
       "        vertical-align: top;\n",
       "    }\n",
       "\n",
       "    .dataframe thead th {\n",
       "        text-align: right;\n",
       "    }\n",
       "</style>\n",
       "<table border=\"1\" class=\"dataframe\">\n",
       "  <thead>\n",
       "    <tr style=\"text-align: right;\">\n",
       "      <th></th>\n",
       "      <th>c_office_id</th>\n",
       "      <th>c_office_chn</th>\n",
       "      <th>c_ot_coding</th>\n",
       "      <th>c_ot_tit_chinm</th>\n",
       "      <th>c_ot_adm_chinm</th>\n",
       "    </tr>\n",
       "  </thead>\n",
       "  <tbody>\n",
       "    <tr>\n",
       "      <th>3648</th>\n",
       "      <td>226</td>\n",
       "      <td>太監</td>\n",
       "      <td>T1216</td>\n",
       "      <td>太監</td>\n",
       "      <td>NaN</td>\n",
       "    </tr>\n",
       "    <tr>\n",
       "      <th>3854</th>\n",
       "      <td>546</td>\n",
       "      <td>牲口房/僉書</td>\n",
       "      <td>A309/T1049</td>\n",
       "      <td>僉書</td>\n",
       "      <td>牲口房</td>\n",
       "    </tr>\n",
       "    <tr>\n",
       "      <th>2574</th>\n",
       "      <td>2954</td>\n",
       "      <td>分守參將</td>\n",
       "      <td>A825T931</td>\n",
       "      <td>參將</td>\n",
       "      <td>分守</td>\n",
       "    </tr>\n",
       "    <tr>\n",
       "      <th>2661</th>\n",
       "      <td>72108</td>\n",
       "      <td>/遊擊將軍</td>\n",
       "      <td>/A567T800</td>\n",
       "      <td>將軍</td>\n",
       "      <td>遊擊</td>\n",
       "    </tr>\n",
       "    <tr>\n",
       "      <th>3010</th>\n",
       "      <td>71831</td>\n",
       "      <td>鶴慶侯</td>\n",
       "      <td>鶴慶T1348</td>\n",
       "      <td>侯</td>\n",
       "      <td>NaN</td>\n",
       "    </tr>\n",
       "    <tr>\n",
       "      <th>4271</th>\n",
       "      <td>70913</td>\n",
       "      <td>右詹事</td>\n",
       "      <td>右T1165</td>\n",
       "      <td>詹事</td>\n",
       "      <td>NaN</td>\n",
       "    </tr>\n",
       "    <tr>\n",
       "      <th>1425</th>\n",
       "      <td>1928</td>\n",
       "      <td>參軍府左參軍</td>\n",
       "      <td>T1000A930左T1000</td>\n",
       "      <td>參軍</td>\n",
       "      <td>府</td>\n",
       "    </tr>\n",
       "    <tr>\n",
       "      <th>3761</th>\n",
       "      <td>248</td>\n",
       "      <td>管理太監</td>\n",
       "      <td>A808T1216</td>\n",
       "      <td>太監</td>\n",
       "      <td>管理</td>\n",
       "    </tr>\n",
       "    <tr>\n",
       "      <th>1397</th>\n",
       "      <td>2138</td>\n",
       "      <td>南鎮撫司鎮撫使</td>\n",
       "      <td>A151鎮撫T1338</td>\n",
       "      <td>使</td>\n",
       "      <td>南鎮撫司</td>\n",
       "    </tr>\n",
       "    <tr>\n",
       "      <th>3059</th>\n",
       "      <td>71993</td>\n",
       "      <td>衛國公</td>\n",
       "      <td>A925國T1342</td>\n",
       "      <td>公</td>\n",
       "      <td>衛</td>\n",
       "    </tr>\n",
       "  </tbody>\n",
       "</table>\n",
       "</div>"
      ],
      "text/plain": [
       "     c_office_id c_office_chn      c_ot_coding c_ot_tit_chinm c_ot_adm_chinm\n",
       "3648         226           太監            T1216             太監            NaN\n",
       "3854         546       牲口房/僉書       A309/T1049             僉書            牲口房\n",
       "2574        2954         分守參將         A825T931             參將             分守\n",
       "2661       72108        /遊擊將軍        /A567T800             將軍             遊擊\n",
       "3010       71831          鶴慶侯          鶴慶T1348              侯            NaN\n",
       "4271       70913          右詹事           右T1165             詹事            NaN\n",
       "1425        1928       參軍府左參軍  T1000A930左T1000             參軍              府\n",
       "3761         248         管理太監        A808T1216             太監             管理\n",
       "1397        2138      南鎮撫司鎮撫使      A151鎮撫T1338              使           南鎮撫司\n",
       "3059       71993          衛國公       A925國T1342              公              衛"
      ]
     },
     "execution_count": 18,
     "metadata": {},
     "output_type": "execute_result"
    }
   ],
   "source": [
    "df_office_ming_drop_col.sample(10)"
   ]
  },
  {
   "cell_type": "code",
   "execution_count": 19,
   "metadata": {},
   "outputs": [
    {
     "name": "stderr",
     "output_type": "stream",
     "text": [
      "100%|██████████| 4318/4318 [00:11<00:00, 383.24it/s]\n"
     ]
    }
   ],
   "source": [
    "# Replace Classifications (can be multiple units in an office title string).\n",
    "for ming_ot_index in tqdm(df_office_ming_drop_col.index):\n",
    "    cls_list=[]\n",
    "    for cls_index in df_cls.index:\n",
    "        cls=df_cls.loc[cls_index, 'c_ot_cls_chinm']\n",
    "        c_ot_coding = df_office_ming_drop_col.loc[ming_ot_index, 'c_ot_coding']\n",
    "        if cls in c_ot_coding:\n",
    "            cls_list.append(cls)\n",
    "            df_office_ming_drop_col.loc[ming_ot_index, 'c_ot_coding']=c_ot_coding.replace(cls, 'C'+str(cls_index))\n",
    "    if cls_list!=[]:\n",
    "        df_office_ming_drop_col.loc[ming_ot_index, 'c_ot_cls_chinm']='#'.join(cls_list)"
   ]
  },
  {
   "cell_type": "code",
   "execution_count": 20,
   "metadata": {},
   "outputs": [],
   "source": [
    "df_office_ming_drop_col.to_excel('../dump/ming_office_title_coding_UCI.xlsx', encoding='utf8')"
   ]
  },
  {
   "cell_type": "code",
   "execution_count": null,
   "metadata": {},
   "outputs": [],
   "source": []
  }
 ],
 "metadata": {
  "kernelspec": {
   "display_name": "Python 3",
   "language": "python",
   "name": "python3"
  },
  "language_info": {
   "codemirror_mode": {
    "name": "ipython",
    "version": 3
   },
   "file_extension": ".py",
   "mimetype": "text/x-python",
   "name": "python",
   "nbconvert_exporter": "python",
   "pygments_lexer": "ipython3",
   "version": "3.6.4"
  }
 },
 "nbformat": 4,
 "nbformat_minor": 2
}
