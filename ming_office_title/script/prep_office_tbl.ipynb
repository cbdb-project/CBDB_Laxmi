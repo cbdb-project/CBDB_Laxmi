{
 "cells": [
  {
   "cell_type": "code",
   "execution_count": 1,
   "metadata": {},
   "outputs": [],
   "source": [
    "from tqdm import tqdm\n",
    "import pandas as pd\n",
    "import math\n",
    "import re\n",
    "import warnings\n",
    "warnings.filterwarnings('ignore')"
   ]
  },
  {
   "cell_type": "markdown",
   "metadata": {},
   "source": [
    "## Refine tables."
   ]
  },
  {
   "cell_type": "markdown",
   "metadata": {},
   "source": [
    "### Separate ADM and FUNC."
   ]
  },
  {
   "cell_type": "code",
   "execution_count": 2,
   "metadata": {},
   "outputs": [],
   "source": [
    "df_c_ot_adm_raw=pd.read_excel('https://docs.google.com/spreadsheets/d/e/2PACX-1vQwXjRmlMR9w2ZV2tcenPSz9UgE7WAgeumGxxCJlceQOZRQFgm6_mgMCAlC_GzM0yxxNsDOlU1-5aH-/pub?output=xlsx',\n",
    "                              sheetname='C_OT_ADM'\n",
    "                             ).drop('c_ot_adm_id', axis=1)\n",
    "df_c_ot_adm_raw['length']=[len(str(s)) for s in df_c_ot_adm_raw['c_ot_adm_chinm']]\n",
    "df_c_ot_adm_raw.sort_values(by='length', ascending=False, inplace=True)\n",
    "df_c_ot_adm_raw.index.name='c_ot_adm_id'\n",
    "df_c_ot_adm_raw.reset_index(inplace=True)"
   ]
  },
  {
   "cell_type": "code",
   "execution_count": 3,
   "metadata": {},
   "outputs": [],
   "source": [
    "df_c_ot_adm_raw[(df_c_ot_adm_raw.type=='f')|(df_c_ot_adm_raw.type=='b')].rename(columns={'c_ot_adm_id':'c_ot_func_id', \n",
    "                                                                                         'c_ot_adm_chinm':'c_ot_func_chinm',\n",
    "                                                                                         'c_ot_adm_engnm':'c_ot_func_engnm',\n",
    "                                                                                         'c_ot_adm_desc':'c_ot_func_desc',\n",
    "                                                                                         'c_ot_adm_start':'c_ot_func_start',\n",
    "                                                                                         'c_ot_adm_end':'c_ot_func_end'\n",
    "                                                                                        }).\\\n",
    "to_csv('../data_output/C_OT_FUNC.tsv', encoding='utf8', sep='\\t', index=False)"
   ]
  },
  {
   "cell_type": "code",
   "execution_count": 4,
   "metadata": {},
   "outputs": [],
   "source": [
    "df_c_ot_adm_raw[df_c_ot_adm_raw.type=='o'].\\\n",
    "to_csv('../data_output/C_OT_ADM.tsv', encoding='utf8', sep='\\t', index=False)"
   ]
  },
  {
   "cell_type": "markdown",
   "metadata": {},
   "source": [
    "### Refined C_OT_TIT."
   ]
  },
  {
   "cell_type": "code",
   "execution_count": 5,
   "metadata": {},
   "outputs": [],
   "source": [
    "df_c_ot_tit_raw=pd.read_excel('https://docs.google.com/spreadsheets/d/e/2PACX-1vQwXjRmlMR9w2ZV2tcenPSz9UgE7WAgeumGxxCJlceQOZRQFgm6_mgMCAlC_GzM0yxxNsDOlU1-5aH-/pub?output=xlsx',\n",
    "                              sheetname='C_OT_TIT'\n",
    "                             ).drop('c_ot_tit_id', axis=1)\n",
    "df_c_ot_tit_raw['length']=[len(str(s)) for s in df_c_ot_tit_raw['c_ot_tit_chinm']]\n",
    "df_c_ot_tit_raw.sort_values(by='length', ascending=False, inplace=True)\n",
    "df_c_ot_tit_raw.index.name='c_ot_tit_id'\n",
    "df_c_ot_tit_raw.reset_index(inplace=True)"
   ]
  },
  {
   "cell_type": "code",
   "execution_count": 6,
   "metadata": {},
   "outputs": [],
   "source": [
    "df_c_ot_tit_raw[(df_c_ot_tit_raw.value_to_run==1)|(df_c_ot_tit_raw.value_to_run==2)].\\\n",
    "to_csv('../data_output/C_OT_TIT.tsv', encoding='utf8', sep='\\t', index=False)"
   ]
  },
  {
   "cell_type": "markdown",
   "metadata": {},
   "source": [
    "### Refined C_OT_CLS"
   ]
  },
  {
   "cell_type": "code",
   "execution_count": 7,
   "metadata": {},
   "outputs": [],
   "source": [
    "df_c_ot_cls_raw=pd.read_excel('https://docs.google.com/spreadsheets/d/e/2PACX-1vQwXjRmlMR9w2ZV2tcenPSz9UgE7WAgeumGxxCJlceQOZRQFgm6_mgMCAlC_GzM0yxxNsDOlU1-5aH-/pub?output=xlsx',\n",
    "                              sheetname='C_OT_CLS'\n",
    "                             ).drop('c_ot_cls_id', axis=1)\n",
    "df_c_ot_cls_raw['length']=[len(str(s)) for s in df_c_ot_cls_raw['c_ot_cls_chinm']]\n",
    "df_c_ot_cls_raw.sort_values(by='length', ascending=False, inplace=True)\n",
    "df_c_ot_cls_raw.index.name='c_ot_cls_id'\n",
    "df_c_ot_cls_raw.reset_index(inplace=True)"
   ]
  },
  {
   "cell_type": "code",
   "execution_count": 8,
   "metadata": {},
   "outputs": [],
   "source": [
    "df_c_ot_cls_raw[(df_c_ot_cls_raw.value_to_run==1)|(df_c_ot_cls_raw.value_to_run==2)].\\\n",
    "to_csv('../data_output/C_OT_CLS.tsv', encoding='utf8', sep='\\t', index=False)"
   ]
  },
  {
   "cell_type": "markdown",
   "metadata": {},
   "source": [
    "### Refined Appointment Type."
   ]
  },
  {
   "cell_type": "code",
   "execution_count": 9,
   "metadata": {},
   "outputs": [
    {
     "data": {
      "text/html": [
       "<div>\n",
       "<style scoped>\n",
       "    .dataframe tbody tr th:only-of-type {\n",
       "        vertical-align: middle;\n",
       "    }\n",
       "\n",
       "    .dataframe tbody tr th {\n",
       "        vertical-align: top;\n",
       "    }\n",
       "\n",
       "    .dataframe thead th {\n",
       "        text-align: right;\n",
       "    }\n",
       "</style>\n",
       "<table border=\"1\" class=\"dataframe\">\n",
       "  <thead>\n",
       "    <tr style=\"text-align: right;\">\n",
       "      <th></th>\n",
       "      <th>c_appt_type_code</th>\n",
       "      <th>c_appt_type_desc_chn</th>\n",
       "      <th>c_appt_type_desc</th>\n",
       "      <th>check</th>\n",
       "      <th>length</th>\n",
       "    </tr>\n",
       "  </thead>\n",
       "  <tbody>\n",
       "    <tr>\n",
       "      <th>62</th>\n",
       "      <td>70</td>\n",
       "      <td>謫</td>\n",
       "      <td>NaN</td>\n",
       "      <td>NaN</td>\n",
       "      <td>1</td>\n",
       "    </tr>\n",
       "    <tr>\n",
       "      <th>63</th>\n",
       "      <td>71</td>\n",
       "      <td>轉</td>\n",
       "      <td>NaN</td>\n",
       "      <td>NaN</td>\n",
       "      <td>1</td>\n",
       "    </tr>\n",
       "    <tr>\n",
       "      <th>66</th>\n",
       "      <td>74</td>\n",
       "      <td>復</td>\n",
       "      <td>NaN</td>\n",
       "      <td>NaN</td>\n",
       "      <td>1</td>\n",
       "    </tr>\n",
       "    <tr>\n",
       "      <th>40</th>\n",
       "      <td>47</td>\n",
       "      <td>賜</td>\n",
       "      <td>NaN</td>\n",
       "      <td>NaN</td>\n",
       "      <td>1</td>\n",
       "    </tr>\n",
       "    <tr>\n",
       "      <th>25</th>\n",
       "      <td>32</td>\n",
       "      <td>判</td>\n",
       "      <td>Used When The Official'S Rank Is Higher  Than ...</td>\n",
       "      <td>NaN</td>\n",
       "      <td>1</td>\n",
       "    </tr>\n",
       "  </tbody>\n",
       "</table>\n",
       "</div>"
      ],
      "text/plain": [
       "    c_appt_type_code c_appt_type_desc_chn  \\\n",
       "62                70                    謫   \n",
       "63                71                    轉   \n",
       "66                74                    復   \n",
       "40                47                    賜   \n",
       "25                32                    判   \n",
       "\n",
       "                                     c_appt_type_desc  check  length  \n",
       "62                                                NaN    NaN       1  \n",
       "63                                                NaN    NaN       1  \n",
       "66                                                NaN    NaN       1  \n",
       "40                                                NaN    NaN       1  \n",
       "25  Used When The Official'S Rank Is Higher  Than ...    NaN       1  "
      ]
     },
     "execution_count": 9,
     "metadata": {},
     "output_type": "execute_result"
    }
   ],
   "source": [
    "df_app_ty=pd.read_excel('https://docs.google.com/spreadsheets/d/e/2PACX-1vQwXjRmlMR9w2ZV2tcenPSz9UgE7WAgeumGxxCJlceQOZRQFgm6_mgMCAlC_GzM0yxxNsDOlU1-5aH-/pub?output=xlsx',\n",
    "                        sheetname='APPOINTMENT_TYPE_CODES'\n",
    "                       )\n",
    "df_app_ty['length']=[len(str(s)) for s in df_app_ty['c_appt_type_desc_chn']]\n",
    "df_app_ty.sort_values(by='length', ascending=False, inplace=True)\n",
    "df_app_ty.tail()"
   ]
  },
  {
   "cell_type": "code",
   "execution_count": 10,
   "metadata": {},
   "outputs": [],
   "source": [
    "df_app_ty.to_csv('../data_output/APPOINTMENT_TYPE_CODES.tsv', encoding='utf8', sep='\\t', index=False)"
   ]
  },
  {
   "cell_type": "markdown",
   "metadata": {},
   "source": [
    "### Refined Text code."
   ]
  },
  {
   "cell_type": "code",
   "execution_count": 14,
   "metadata": {},
   "outputs": [
    {
     "data": {
      "text/html": [
       "<div>\n",
       "<style scoped>\n",
       "    .dataframe tbody tr th:only-of-type {\n",
       "        vertical-align: middle;\n",
       "    }\n",
       "\n",
       "    .dataframe tbody tr th {\n",
       "        vertical-align: top;\n",
       "    }\n",
       "\n",
       "    .dataframe thead th {\n",
       "        text-align: right;\n",
       "    }\n",
       "</style>\n",
       "<table border=\"1\" class=\"dataframe\">\n",
       "  <thead>\n",
       "    <tr style=\"text-align: right;\">\n",
       "      <th></th>\n",
       "      <th>tts_sysno</th>\n",
       "      <th>c_textid</th>\n",
       "      <th>c_title_chn</th>\n",
       "      <th>c_suffix_version</th>\n",
       "      <th>c_title</th>\n",
       "      <th>c_title_trans</th>\n",
       "      <th>c_text_type_id</th>\n",
       "      <th>c_text_year</th>\n",
       "      <th>c_text_nh_code</th>\n",
       "      <th>c_text_nh_year</th>\n",
       "      <th>...</th>\n",
       "      <th>c_url_homepage</th>\n",
       "      <th>c_notes</th>\n",
       "      <th>c_number</th>\n",
       "      <th>c_counter</th>\n",
       "      <th>c_title_alt_chn</th>\n",
       "      <th>c_created_by</th>\n",
       "      <th>c_created_date</th>\n",
       "      <th>c_modified_by</th>\n",
       "      <th>c_modified_date</th>\n",
       "      <th>length</th>\n",
       "    </tr>\n",
       "  </thead>\n",
       "  <tbody>\n",
       "    <tr>\n",
       "      <th>2403</th>\n",
       "      <td>2404.0</td>\n",
       "      <td>4472</td>\n",
       "      <td>0</td>\n",
       "      <td>NaN</td>\n",
       "      <td>Cilu XZ</td>\n",
       "      <td>NaN</td>\n",
       "      <td>NaN</td>\n",
       "      <td>1671.0</td>\n",
       "      <td>0.0</td>\n",
       "      <td>NaN</td>\n",
       "      <td>...</td>\n",
       "      <td>NaN</td>\n",
       "      <td>NaN</td>\n",
       "      <td>NaN</td>\n",
       "      <td>NaN</td>\n",
       "      <td>NaN</td>\n",
       "      <td>TTS</td>\n",
       "      <td>20070417</td>\n",
       "      <td>NaN</td>\n",
       "      <td>NaN</td>\n",
       "      <td>1</td>\n",
       "    </tr>\n",
       "    <tr>\n",
       "      <th>1481</th>\n",
       "      <td>1482.0</td>\n",
       "      <td>3537</td>\n",
       "      <td>0</td>\n",
       "      <td>NaN</td>\n",
       "      <td>Xiayin yuxuan</td>\n",
       "      <td>NaN</td>\n",
       "      <td>NaN</td>\n",
       "      <td>1593.0</td>\n",
       "      <td>0.0</td>\n",
       "      <td>NaN</td>\n",
       "      <td>...</td>\n",
       "      <td>NaN</td>\n",
       "      <td>NaN</td>\n",
       "      <td>NaN</td>\n",
       "      <td>NaN</td>\n",
       "      <td>NaN</td>\n",
       "      <td>TTS</td>\n",
       "      <td>20070417</td>\n",
       "      <td>NaN</td>\n",
       "      <td>NaN</td>\n",
       "      <td>1</td>\n",
       "    </tr>\n",
       "    <tr>\n",
       "      <th>27092</th>\n",
       "      <td>27093.0</td>\n",
       "      <td>36682</td>\n",
       "      <td>清</td>\n",
       "      <td>NaN</td>\n",
       "      <td>Qing</td>\n",
       "      <td>NaN</td>\n",
       "      <td>NaN</td>\n",
       "      <td>NaN</td>\n",
       "      <td>0.0</td>\n",
       "      <td>NaN</td>\n",
       "      <td>...</td>\n",
       "      <td>NaN</td>\n",
       "      <td>NaN</td>\n",
       "      <td>NaN</td>\n",
       "      <td>NaN</td>\n",
       "      <td>NaN</td>\n",
       "      <td>load</td>\n",
       "      <td>20140212</td>\n",
       "      <td>NaN</td>\n",
       "      <td>NaN</td>\n",
       "      <td>1</td>\n",
       "    </tr>\n",
       "    <tr>\n",
       "      <th>16147</th>\n",
       "      <td>16027.0</td>\n",
       "      <td>18155</td>\n",
       "      <td>礮</td>\n",
       "      <td>NaN</td>\n",
       "      <td>Pao</td>\n",
       "      <td>NaN</td>\n",
       "      <td>NaN</td>\n",
       "      <td>NaN</td>\n",
       "      <td>0.0</td>\n",
       "      <td>NaN</td>\n",
       "      <td>...</td>\n",
       "      <td>NaN</td>\n",
       "      <td>礮;說(據中央研究院《明清人物權威檔案》).</td>\n",
       "      <td>NaN</td>\n",
       "      <td>NaN</td>\n",
       "      <td>NaN</td>\n",
       "      <td>load</td>\n",
       "      <td>20100825</td>\n",
       "      <td>NaN</td>\n",
       "      <td>NaN</td>\n",
       "      <td>1</td>\n",
       "    </tr>\n",
       "    <tr>\n",
       "      <th>23119</th>\n",
       "      <td>23120.0</td>\n",
       "      <td>25373</td>\n",
       "      <td>文</td>\n",
       "      <td>NaN</td>\n",
       "      <td>wen</td>\n",
       "      <td>NaN</td>\n",
       "      <td>NaN</td>\n",
       "      <td>NaN</td>\n",
       "      <td>0.0</td>\n",
       "      <td>NaN</td>\n",
       "      <td>...</td>\n",
       "      <td>NaN</td>\n",
       "      <td>NaN</td>\n",
       "      <td>NaN</td>\n",
       "      <td>NaN</td>\n",
       "      <td>NaN</td>\n",
       "      <td>load</td>\n",
       "      <td>20100825</td>\n",
       "      <td>NaN</td>\n",
       "      <td>NaN</td>\n",
       "      <td>1</td>\n",
       "    </tr>\n",
       "  </tbody>\n",
       "</table>\n",
       "<p>5 rows × 38 columns</p>\n",
       "</div>"
      ],
      "text/plain": [
       "       tts_sysno  c_textid c_title_chn c_suffix_version        c_title  \\\n",
       "2403      2404.0      4472           0              NaN        Cilu XZ   \n",
       "1481      1482.0      3537           0              NaN  Xiayin yuxuan   \n",
       "27092    27093.0     36682           清              NaN           Qing   \n",
       "16147    16027.0     18155           礮              NaN            Pao   \n",
       "23119    23120.0     25373           文              NaN            wen   \n",
       "\n",
       "      c_title_trans  c_text_type_id  c_text_year  c_text_nh_code  \\\n",
       "2403            NaN             NaN       1671.0             0.0   \n",
       "1481            NaN             NaN       1593.0             0.0   \n",
       "27092           NaN             NaN          NaN             0.0   \n",
       "16147           NaN             NaN          NaN             0.0   \n",
       "23119           NaN             NaN          NaN             0.0   \n",
       "\n",
       "       c_text_nh_year   ...    c_url_homepage                 c_notes  \\\n",
       "2403              NaN   ...               NaN                     NaN   \n",
       "1481              NaN   ...               NaN                     NaN   \n",
       "27092             NaN   ...               NaN                     NaN   \n",
       "16147             NaN   ...               NaN  礮;說(據中央研究院《明清人物權威檔案》).   \n",
       "23119             NaN   ...               NaN                     NaN   \n",
       "\n",
       "       c_number  c_counter  c_title_alt_chn  c_created_by  c_created_date  \\\n",
       "2403        NaN        NaN              NaN           TTS        20070417   \n",
       "1481        NaN        NaN              NaN           TTS        20070417   \n",
       "27092       NaN        NaN              NaN          load        20140212   \n",
       "16147       NaN        NaN              NaN          load        20100825   \n",
       "23119       NaN        NaN              NaN          load        20100825   \n",
       "\n",
       "       c_modified_by  c_modified_date  length  \n",
       "2403             NaN              NaN       1  \n",
       "1481             NaN              NaN       1  \n",
       "27092            NaN              NaN       1  \n",
       "16147            NaN              NaN       1  \n",
       "23119            NaN              NaN       1  \n",
       "\n",
       "[5 rows x 38 columns]"
      ]
     },
     "execution_count": 14,
     "metadata": {},
     "output_type": "execute_result"
    }
   ],
   "source": [
    "df_txt_code=pd.read_excel('https://docs.google.com/spreadsheets/d/e/2PACX-1vQwXjRmlMR9w2ZV2tcenPSz9UgE7WAgeumGxxCJlceQOZRQFgm6_mgMCAlC_GzM0yxxNsDOlU1-5aH-/pub?output=xlsx',\n",
    "                          sheetname='TEXT_CODES'\n",
    "                         )\n",
    "df_txt_code['length']=[len(str(s)) for s in df_txt_code['c_title_chn']]\n",
    "df_txt_code.sort_values(by='length', ascending=False, inplace=True)\n",
    "df_txt_code.tail()"
   ]
  },
  {
   "cell_type": "code",
   "execution_count": 19,
   "metadata": {},
   "outputs": [],
   "source": [
    "df_txt_code.to_csv('../data_output/TEXT_CODES.tsv', encoding='utf8', sep='\\t', index=False)"
   ]
  },
  {
   "cell_type": "markdown",
   "metadata": {},
   "source": [
    "## Build tables."
   ]
  },
  {
   "cell_type": "markdown",
   "metadata": {},
   "source": [
    "### Build Classification table (`C_OT_CLS`)."
   ]
  },
  {
   "cell_type": "code",
   "execution_count": 11,
   "metadata": {},
   "outputs": [],
   "source": [
    "df_C_OT_CLS=pd.DataFrame(columns=['c_ot_cls_chinm','c_ot_cls_engnm','c_ot_cls_desc','c_ot_cls_start','c_ot_cls_end',])"
   ]
  },
  {
   "cell_type": "code",
   "execution_count": null,
   "metadata": {},
   "outputs": [],
   "source": [
    "c_ot_cls_list=list(set(df_ming_title_refined['Institution 1'].unique()).union((df_ming_title_refined['Institution 2'].unique())))\n",
    "c_ot_cls_list=[s.strip() for s in c_ot_cls_list if str(s)!='nan']"
   ]
  },
  {
   "cell_type": "code",
   "execution_count": null,
   "metadata": {},
   "outputs": [],
   "source": [
    "c_ot_cls_chinm_list=[str(s).split(' ')[0] for s in c_ot_cls_list]\n",
    "c_ot_cls_engnm_list=[' '.join(str(s).split(' ')[1:]) for s in c_ot_cls_list]"
   ]
  },
  {
   "cell_type": "code",
   "execution_count": null,
   "metadata": {},
   "outputs": [],
   "source": [
    "df_C_OT_CLS['c_ot_cls_chinm']=c_ot_cls_chinm_list\n",
    "df_C_OT_CLS['c_ot_cls_engnm']=c_ot_cls_engnm_list\n",
    "df_C_OT_CLS['len']=[len(s) for s in df_C_OT_CLS['c_ot_cls_chinm']]\n",
    "df_C_OT_CLS.sort_values(by='len', ascending=False, inplace=True)\n",
    "df_C_OT_CLS.reset_index(inplace=True, drop=True)\n",
    "df_C_OT_CLS.index.name='c_ot_cls_id'\n",
    "df_C_OT_CLS.drop('len', axis=1).to_csv('../data_output/C_OT_CLS.tsv', sep='\\t', encoding='utf8')"
   ]
  },
  {
   "cell_type": "markdown",
   "metadata": {},
   "source": [
    "### Build Admin Unit table (`C_OT_ADM`) and Title table (`C_OT_TIT`)."
   ]
  },
  {
   "cell_type": "code",
   "execution_count": 11,
   "metadata": {},
   "outputs": [],
   "source": [
    "df_C_OT_ADM=pd.DataFrame(columns=['c_ot_adm_chinm','c_ot_adm_engnm','c_ot_adm_desc','c_ot_adm_start','c_ot_adm_end',])\n",
    "df_C_OT_TIT=pd.DataFrame(columns=['c_ot_tit_chinm','c_ot_tit_engnm','c_ot_tit_desc','c_ot_tit_start','c_ot_tit_end',])"
   ]
  },
  {
   "cell_type": "code",
   "execution_count": 12,
   "metadata": {},
   "outputs": [],
   "source": [
    "c_ot_adm_list=list(set(df_ming_title_refined['Institution 3'].unique()))\n",
    "c_ot_adm_list=[s.strip() for s in c_ot_adm_list if str(s)!='nan']"
   ]
  },
  {
   "cell_type": "code",
   "execution_count": 13,
   "metadata": {},
   "outputs": [],
   "source": [
    "adm_list=[]\n",
    "for adm_title in [s.split('/') for s in df_ming_title_refined['concat'].unique()]:\n",
    "    adm_list+=adm_title[:-1]\n",
    "    \n",
    "tit_list=[]\n",
    "for adm_title in [s.split('/') for s in df_ming_title_refined['concat'].unique()]:\n",
    "    tit_list.append(adm_title[-1])"
   ]
  },
  {
   "cell_type": "code",
   "execution_count": 14,
   "metadata": {},
   "outputs": [
    {
     "data": {
      "text/plain": [
       "(1967, 942, 2836, 1349)"
      ]
     },
     "execution_count": 14,
     "metadata": {},
     "output_type": "execute_result"
    }
   ],
   "source": [
    "len(adm_list), len(set(adm_list)), len(tit_list),  len(set(tit_list))"
   ]
  },
  {
   "cell_type": "code",
   "execution_count": 18,
   "metadata": {},
   "outputs": [],
   "source": [
    "# Build Admin Unit table.\n",
    "df_C_OT_ADM['c_ot_adm_chinm']=list(set(adm_list))\n",
    "df_C_OT_ADM['len']=[len(s) for s in df_C_OT_ADM['c_ot_adm_chinm']]\n",
    "df_C_OT_ADM.sort_values(by='len', ascending=False, inplace=True)\n",
    "df_C_OT_ADM.reset_index(inplace=True, drop=True)\n",
    "df_C_OT_ADM.index.name='c_ot_adm_id'\n",
    "df_C_OT_ADM.drop('len', axis=1).to_csv('../data_output/C_OT_ADM.tsv', sep='\\t', encoding='utf8')\n",
    "# Build Title table.\n",
    "df_C_OT_TIT['c_ot_tit_chinm']=list(set(tit_list))\n",
    "df_C_OT_TIT['len']=[len(s) for s in df_C_OT_TIT['c_ot_tit_chinm']]\n",
    "df_C_OT_TIT.sort_values(by='len', ascending=False, inplace=True)\n",
    "df_C_OT_TIT.reset_index(inplace=True, drop=True)\n",
    "df_C_OT_TIT.index.name='c_ot_tit_id'\n",
    "df_C_OT_TIT.drop('len', axis=1).to_csv('../data_output/C_OT_TIT.tsv', sep='\\t', encoding='utf8')"
   ]
  },
  {
   "cell_type": "code",
   "execution_count": 16,
   "metadata": {},
   "outputs": [
    {
     "data": {
      "text/html": [
       "<div>\n",
       "<style scoped>\n",
       "    .dataframe tbody tr th:only-of-type {\n",
       "        vertical-align: middle;\n",
       "    }\n",
       "\n",
       "    .dataframe tbody tr th {\n",
       "        vertical-align: top;\n",
       "    }\n",
       "\n",
       "    .dataframe thead th {\n",
       "        text-align: right;\n",
       "    }\n",
       "</style>\n",
       "<table border=\"1\" class=\"dataframe\">\n",
       "  <thead>\n",
       "    <tr style=\"text-align: right;\">\n",
       "      <th></th>\n",
       "      <th>c_ot_adm_chinm</th>\n",
       "      <th>c_ot_adm_engnm</th>\n",
       "      <th>c_ot_adm_desc</th>\n",
       "      <th>c_ot_adm_start</th>\n",
       "      <th>c_ot_adm_end</th>\n",
       "      <th>len</th>\n",
       "    </tr>\n",
       "    <tr>\n",
       "      <th>c_ot_adm_id</th>\n",
       "      <th></th>\n",
       "      <th></th>\n",
       "      <th></th>\n",
       "      <th></th>\n",
       "      <th></th>\n",
       "      <th></th>\n",
       "    </tr>\n",
       "  </thead>\n",
       "  <tbody>\n",
       "    <tr>\n",
       "      <th>895</th>\n",
       "      <td>驃騎</td>\n",
       "      <td>NaN</td>\n",
       "      <td>NaN</td>\n",
       "      <td>NaN</td>\n",
       "      <td>NaN</td>\n",
       "      <td>2</td>\n",
       "    </tr>\n",
       "    <tr>\n",
       "      <th>217</th>\n",
       "      <td>蘇州織造</td>\n",
       "      <td>NaN</td>\n",
       "      <td>NaN</td>\n",
       "      <td>NaN</td>\n",
       "      <td>NaN</td>\n",
       "      <td>4</td>\n",
       "    </tr>\n",
       "    <tr>\n",
       "      <th>384</th>\n",
       "      <td>兵馬司</td>\n",
       "      <td>NaN</td>\n",
       "      <td>NaN</td>\n",
       "      <td>NaN</td>\n",
       "      <td>NaN</td>\n",
       "      <td>3</td>\n",
       "    </tr>\n",
       "    <tr>\n",
       "      <th>186</th>\n",
       "      <td>巡視京營</td>\n",
       "      <td>NaN</td>\n",
       "      <td>NaN</td>\n",
       "      <td>NaN</td>\n",
       "      <td>NaN</td>\n",
       "      <td>4</td>\n",
       "    </tr>\n",
       "    <tr>\n",
       "      <th>602</th>\n",
       "      <td>議政</td>\n",
       "      <td>NaN</td>\n",
       "      <td>NaN</td>\n",
       "      <td>NaN</td>\n",
       "      <td>NaN</td>\n",
       "      <td>2</td>\n",
       "    </tr>\n",
       "  </tbody>\n",
       "</table>\n",
       "</div>"
      ],
      "text/plain": [
       "            c_ot_adm_chinm c_ot_adm_engnm c_ot_adm_desc c_ot_adm_start  \\\n",
       "c_ot_adm_id                                                              \n",
       "895                     驃騎            NaN           NaN            NaN   \n",
       "217                   蘇州織造            NaN           NaN            NaN   \n",
       "384                    兵馬司            NaN           NaN            NaN   \n",
       "186                   巡視京營            NaN           NaN            NaN   \n",
       "602                     議政            NaN           NaN            NaN   \n",
       "\n",
       "            c_ot_adm_end  len  \n",
       "c_ot_adm_id                    \n",
       "895                  NaN    2  \n",
       "217                  NaN    4  \n",
       "384                  NaN    3  \n",
       "186                  NaN    4  \n",
       "602                  NaN    2  "
      ]
     },
     "execution_count": 16,
     "metadata": {},
     "output_type": "execute_result"
    }
   ],
   "source": [
    "df_C_OT_ADM.sample(5)"
   ]
  },
  {
   "cell_type": "code",
   "execution_count": 17,
   "metadata": {},
   "outputs": [
    {
     "data": {
      "text/html": [
       "<div>\n",
       "<style scoped>\n",
       "    .dataframe tbody tr th:only-of-type {\n",
       "        vertical-align: middle;\n",
       "    }\n",
       "\n",
       "    .dataframe tbody tr th {\n",
       "        vertical-align: top;\n",
       "    }\n",
       "\n",
       "    .dataframe thead th {\n",
       "        text-align: right;\n",
       "    }\n",
       "</style>\n",
       "<table border=\"1\" class=\"dataframe\">\n",
       "  <thead>\n",
       "    <tr style=\"text-align: right;\">\n",
       "      <th></th>\n",
       "      <th>c_ot_tit_chinm</th>\n",
       "      <th>c_ot_tit_engnm</th>\n",
       "      <th>c_ot_tit_desc</th>\n",
       "      <th>c_ot_tit_start</th>\n",
       "      <th>c_ot_tit_end</th>\n",
       "      <th>len</th>\n",
       "    </tr>\n",
       "    <tr>\n",
       "      <th>c_ot_TIT_id</th>\n",
       "      <th></th>\n",
       "      <th></th>\n",
       "      <th></th>\n",
       "      <th></th>\n",
       "      <th></th>\n",
       "      <th></th>\n",
       "    </tr>\n",
       "  </thead>\n",
       "  <tbody>\n",
       "    <tr>\n",
       "      <th>939</th>\n",
       "      <td>谷王</td>\n",
       "      <td>NaN</td>\n",
       "      <td>NaN</td>\n",
       "      <td>NaN</td>\n",
       "      <td>NaN</td>\n",
       "      <td>2</td>\n",
       "    </tr>\n",
       "    <tr>\n",
       "      <th>1053</th>\n",
       "      <td>襄王</td>\n",
       "      <td>NaN</td>\n",
       "      <td>NaN</td>\n",
       "      <td>NaN</td>\n",
       "      <td>NaN</td>\n",
       "      <td>2</td>\n",
       "    </tr>\n",
       "    <tr>\n",
       "      <th>1120</th>\n",
       "      <td>德嬪</td>\n",
       "      <td>NaN</td>\n",
       "      <td>NaN</td>\n",
       "      <td>NaN</td>\n",
       "      <td>NaN</td>\n",
       "      <td>2</td>\n",
       "    </tr>\n",
       "    <tr>\n",
       "      <th>1024</th>\n",
       "      <td>侍書</td>\n",
       "      <td>NaN</td>\n",
       "      <td>NaN</td>\n",
       "      <td>NaN</td>\n",
       "      <td>NaN</td>\n",
       "      <td>2</td>\n",
       "    </tr>\n",
       "    <tr>\n",
       "      <th>1017</th>\n",
       "      <td>寺正</td>\n",
       "      <td>NaN</td>\n",
       "      <td>NaN</td>\n",
       "      <td>NaN</td>\n",
       "      <td>NaN</td>\n",
       "      <td>2</td>\n",
       "    </tr>\n",
       "  </tbody>\n",
       "</table>\n",
       "</div>"
      ],
      "text/plain": [
       "            c_ot_tit_chinm c_ot_tit_engnm c_ot_tit_desc c_ot_tit_start  \\\n",
       "c_ot_TIT_id                                                              \n",
       "939                     谷王            NaN           NaN            NaN   \n",
       "1053                    襄王            NaN           NaN            NaN   \n",
       "1120                    德嬪            NaN           NaN            NaN   \n",
       "1024                    侍書            NaN           NaN            NaN   \n",
       "1017                    寺正            NaN           NaN            NaN   \n",
       "\n",
       "            c_ot_tit_end  len  \n",
       "c_ot_TIT_id                    \n",
       "939                  NaN    2  \n",
       "1053                 NaN    2  \n",
       "1120                 NaN    2  \n",
       "1024                 NaN    2  \n",
       "1017                 NaN    2  "
      ]
     },
     "execution_count": 17,
     "metadata": {},
     "output_type": "execute_result"
    }
   ],
   "source": [
    "df_C_OT_TIT.sample(5)"
   ]
  },
  {
   "cell_type": "markdown",
   "metadata": {},
   "source": [
    "### Draft.\n",
    "```Python\n",
    "df_ming_title_raw=pd.read_csv('https://docs.google.com/spreadsheets/d/e/2PACX-1vSCmhbCk1B-9jjINMhy_VwikM6_Sn7bjdO7b_vaZJkVcYCCYlWVlhYVCFtAs0fPX-UEO62GWxaX1qAS/pub?gid=843266982&single=true&output=tsv',\n",
    "                              sep='\\t')\n",
    "\n",
    "df_ming_title_raw.sample(3)\n",
    "\n",
    "for index in tqdm(df_ming_title_raw.index):\n",
    "    df_ming_title_raw.loc[index, 'concat']='/'.join([str(s).strip() for s in df_ming_title_raw[['titles to revise','Unnamed: 11','Unnamed: 12','Unnamed: 13',]].loc[index]])\n",
    "df_ming_title_raw['concat']=[s.replace('/nan', '') for s in df_ming_title_raw['concat']]\n",
    "df_ming_title_refined=df_ming_title_raw[['LINE #','c_office_id（Dictionary Ser#)','Institution 1','Institution 2','Institution 3','data_cat','concat']]\n",
    "df_ming_title_refined=df_ming_title_refined[df_ming_title_refined.data_cat==1]\n",
    "```\n",
    "\n",
    "df_ming_title_refined=df_ming_title_raw[['LINE #','c_office_id（Dictionary Ser#)','Institution 1','Institution 2','Institution 3','data_cat','title_revised_to run']]\n",
    "df_ming_title_refined['title_revised_to run']=[s.strip('/') for s in df_ming_title_refined['title_revised_to run']]\n",
    "df_ming_title_refined.rename(columns={'title_revised_to run':'concat'}, inplace=True)\n",
    "df_ming_title_refined=df_ming_title_refined[(df_ming_title_refined.data_cat==1)|(df_ming_title_refined.data_cat==7)]\n",
    "\n",
    "df_ming_title_refined.sample(3)"
   ]
  },
  {
   "cell_type": "code",
   "execution_count": null,
   "metadata": {},
   "outputs": [],
   "source": []
  }
 ],
 "metadata": {
  "kernelspec": {
   "display_name": "Python 3",
   "language": "python",
   "name": "python3"
  },
  "language_info": {
   "codemirror_mode": {
    "name": "ipython",
    "version": 3
   },
   "file_extension": ".py",
   "mimetype": "text/x-python",
   "name": "python",
   "nbconvert_exporter": "python",
   "pygments_lexer": "ipython3",
   "version": "3.6.4"
  }
 },
 "nbformat": 4,
 "nbformat_minor": 2
}
